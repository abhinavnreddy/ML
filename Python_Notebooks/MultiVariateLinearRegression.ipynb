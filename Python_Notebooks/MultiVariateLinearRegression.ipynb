{
  "nbformat": 4,
  "nbformat_minor": 0,
  "metadata": {
    "colab": {
      "name": "MultiVariateLinearRegression.ipynb",
      "version": "0.3.2",
      "provenance": [],
      "include_colab_link": true
    },
    "kernelspec": {
      "name": "python3",
      "display_name": "Python 3"
    }
  },
  "cells": [
    {
      "cell_type": "markdown",
      "metadata": {
        "id": "view-in-github",
        "colab_type": "text"
      },
      "source": [
        "<a href=\"https://colab.research.google.com/github/nreddyabhinav/ML/blob/master/Python_Notebooks/MultiVariateLinearRegression.ipynb\" target=\"_parent\"><img src=\"https://colab.research.google.com/assets/colab-badge.svg\" alt=\"Open In Colab\"/></a>"
      ]
    },
    {
      "metadata": {
        "id": "37Vig6v6L9pv",
        "colab_type": "text"
      },
      "cell_type": "markdown",
      "source": [
        "#Mount the drive First\n",
        "(If loading data from google drive)"
      ]
    },
    {
      "metadata": {
        "id": "meIThAKHLZfA",
        "colab_type": "code",
        "outputId": "7142b02f-b69d-417e-edd8-e16c65701085",
        "colab": {
          "base_uri": "https://localhost:8080/",
          "height": 122
        }
      },
      "cell_type": "code",
      "source": [
        "from google.colab import drive\n",
        "\n",
        "drive.mount(\"/content/drive\")"
      ],
      "execution_count": 1,
      "outputs": [
        {
          "output_type": "stream",
          "text": [
            "Go to this URL in a browser: https://accounts.google.com/o/oauth2/auth?client_id=947318989803-6bn6qk8qdgf4n4g3pfee6491hc0brc4i.apps.googleusercontent.com&redirect_uri=urn%3Aietf%3Awg%3Aoauth%3A2.0%3Aoob&scope=email%20https%3A%2F%2Fwww.googleapis.com%2Fauth%2Fdocs.test%20https%3A%2F%2Fwww.googleapis.com%2Fauth%2Fdrive%20https%3A%2F%2Fwww.googleapis.com%2Fauth%2Fdrive.photos.readonly%20https%3A%2F%2Fwww.googleapis.com%2Fauth%2Fpeopleapi.readonly&response_type=code\n",
            "\n",
            "Enter your authorization code:\n",
            "··········\n",
            "Mounted at /content/drive\n"
          ],
          "name": "stdout"
        }
      ]
    },
    {
      "metadata": {
        "id": "QPPg8CBXMTjQ",
        "colab_type": "text"
      },
      "cell_type": "markdown",
      "source": [
        "#Program Starts Here"
      ]
    },
    {
      "metadata": {
        "id": "Dlr0d6lEMTPU",
        "colab_type": "text"
      },
      "cell_type": "markdown",
      "source": [
        "**Import Libraries : **"
      ]
    },
    {
      "metadata": {
        "id": "H7EdOycRMLZw",
        "colab_type": "code",
        "colab": {}
      },
      "cell_type": "code",
      "source": [
        "import numpy as np\n",
        "import pandas as pd\n",
        "import matplotlib.pyplot as plt\n",
        "from mpl_toolkits.mplot3d import Axes3D \n",
        "from matplotlib import cm\n"
      ],
      "execution_count": 0,
      "outputs": []
    },
    {
      "metadata": {
        "id": "Gf8WPOWZT2S0",
        "colab_type": "text"
      },
      "cell_type": "markdown",
      "source": [
        "**Prepare data : **"
      ]
    },
    {
      "metadata": {
        "id": "CHNuYPCaM7h-",
        "colab_type": "code",
        "colab": {}
      },
      "cell_type": "code",
      "source": [
        "def fs(data):\n",
        "  for i in range(0,m):\n",
        "    for j in range(0,3):\n",
        "      datafs[i,j] = (data[i,j]-np.mean(data[:,j]))/np.std(data[:,j])\n",
        "    return datafs"
      ],
      "execution_count": 0,
      "outputs": []
    },
    {
      "metadata": {
        "id": "qrfdQxIHMqnN",
        "colab_type": "code",
        "outputId": "d81706c9-5517-45a4-995a-141c0cf0f6ce",
        "colab": {
          "base_uri": "https://localhost:8080/",
          "height": 1350
        }
      },
      "cell_type": "code",
      "source": [
        "data = pd.read_csv(\"drive/My Drive/ColabNo/ex1data2.txt\",header=None)\n",
        "data = data.values\n",
        "m = len(data)\n",
        "datafs = np.ndarray((m,3))\n",
        "dat = fs(data)\n",
        "\n",
        "x = np.concatenate((np.ones((m,1)),dat[:,0:2]),axis=1)\n",
        "y = dat[:,2]\n",
        "print(x)\n",
        "print(y)\n",
        "theta = np.array([[0],[0],[0]])\n",
        "a = 0.5\n",
        "iterations = 400\n",
        "\n",
        "fig = plt.figure()\n",
        "ax = fig.gca(projection = '3d')\n",
        "ax.plot(x[:,1],x[:,2],y,'rX')\n"
      ],
      "execution_count": 21,
      "outputs": [
        {
          "output_type": "stream",
          "text": [
            "[[ 1.00000000e+000  1.31415422e-001 -2.26093368e-001]\n",
            " [ 1.00000000e+000  6.99596955e-321  1.48219694e-320]\n",
            " [ 1.00000000e+000  7.57896701e-321  7.05031677e-321]\n",
            " [ 1.00000000e+000  7.38134075e-321  9.58487353e-321]\n",
            " [ 1.00000000e+000  9.33784071e-321  2.21242596e-320]\n",
            " [ 1.00000000e+000  1.13635099e-320  6.52166653e-321]\n",
            " [ 1.00000000e+000  1.28901727e-320  1.49751297e-320]\n",
            " [ 1.00000000e+000  9.32795939e-321  7.92481296e-321]\n",
            " [ 1.00000000e+000  1.92191536e-320  5.43472210e-321]\n",
            " [ 1.00000000e+000  1.24800982e-320  1.08694442e-320]\n",
            " [ 1.00000000e+000  9.08586723e-321  4.94065646e-321]\n",
            " [ 1.00000000e+000  1.54988393e-320  8.94752885e-321]\n",
            " [ 1.00000000e+000  6.12147335e-321  1.05334796e-320]\n",
            " [ 1.00000000e+000  1.06816993e-320  8.22125235e-321]\n",
            " [ 1.00000000e+000  1.26826651e-320  5.92878775e-321]\n",
            " [ 1.00000000e+000  9.15009576e-321  5.94360972e-321]\n",
            " [ 1.00000000e+000  1.48219694e-323  1.48219694e-323]\n",
            " [ 1.00000000e+000  1.97626258e-323  1.97626258e-323]\n",
            " [ 1.00000000e+000  1.48219694e-323  1.48219694e-323]\n",
            " [ 1.00000000e+000  1.97626258e-323  1.48219694e-323]\n",
            " [ 1.00000000e+000  2.47032823e-323  1.48219694e-323]\n",
            " [ 1.00000000e+000  9.88131292e-324  1.48219694e-323]\n",
            " [ 1.00000000e+000  1.97626258e-323  1.48219694e-323]\n",
            " [ 1.00000000e+000  1.48219694e-323  1.97626258e-323]\n",
            " [ 1.00000000e+000  1.48219694e-323  1.48219694e-323]\n",
            " [ 1.00000000e+000  1.48219694e-323  1.48219694e-323]\n",
            " [ 1.00000000e+000  4.94065646e-324  1.97626258e-323]\n",
            " [ 1.00000000e+000  1.97626258e-323  1.48219694e-323]\n",
            " [ 1.00000000e+000  1.97626258e-323  1.97626258e-323]\n",
            " [ 1.00000000e+000  9.88131292e-324  1.48219694e-323]\n",
            " [ 1.00000000e+000  1.48219694e-323  9.88131292e-324]\n",
            " [ 1.00000000e+000  1.48219694e-323  1.97576852e-318]\n",
            " [ 1.00000000e+000  1.82310223e-318  1.14623230e-318]\n",
            " [ 1.00000000e+000  1.48170287e-318  1.55581272e-318]\n",
            " [ 1.00000000e+000  1.04741917e-318  1.19810919e-318]\n",
            " [ 1.00000000e+000  1.71440779e-318  1.63041169e-318]\n",
            " [ 1.00000000e+000  1.28407661e-318  2.22280134e-318]\n",
            " [ 1.00000000e+000  9.87637226e-319  2.47031835e-318]\n",
            " [ 1.00000000e+000  1.24949202e-318  1.25986740e-318]\n",
            " [ 1.00000000e+000  1.28407661e-318  2.83544274e-318]\n",
            " [ 1.00000000e+000  2.29493492e-318  2.31716788e-318]\n",
            " [ 1.00000000e+000  1.48170287e-318  1.72873569e-318]\n",
            " [ 1.00000000e+000  1.55581272e-318  2.86508668e-318]\n",
            " [ 1.00000000e+000  1.23467005e-318  1.13585692e-318]\n",
            " [ 1.00000000e+000  2.71242040e-318  1.41796840e-318]\n",
            " [ 1.00000000e+000  1.62992257e-318  1.55136613e-318]\n",
            " [ 1.00000000e+000  8.88824097e-319  1.48170287e-318]]\n",
            "[4.80890225e-001 9.80720307e-321 6.81810591e-321 9.88131292e-321\n",
            " 6.26475239e-321 6.10665138e-321 8.73013996e-321 9.69356797e-321\n",
            " 7.20347712e-321 1.30285111e-320 1.00789392e-320 7.09972333e-321\n",
            " 2.08248670e-320 1.10571892e-320 4.20943930e-321 1.48219694e-323\n",
            " 9.88131292e-324 1.48219694e-323 1.48219694e-323 1.48219694e-323\n",
            " 1.97626258e-323 1.97626258e-323 9.88131292e-324 1.48219694e-323\n",
            " 1.48219694e-323 9.88131292e-324 1.48219694e-323 1.48219694e-323\n",
            " 1.97626258e-323 1.97626258e-323 1.97626258e-323 1.62992257e-318\n",
            " 2.66746042e-318 9.83185695e-319 1.18575261e-318 3.45796546e-318\n",
            " 1.48170287e-318 2.95945322e-318 1.20008545e-318 1.23467005e-318\n",
            " 2.34681182e-318 8.39417532e-319 1.41253368e-318 1.70452648e-318\n",
            " 1.82063190e-318 1.47725628e-318 1.18328722e-318]\n"
          ],
          "name": "stdout"
        },
        {
          "output_type": "execute_result",
          "data": {
            "text/plain": [
              "[<mpl_toolkits.mplot3d.art3d.Line3D at 0x7f95e6d5a7f0>]"
            ]
          },
          "metadata": {
            "tags": []
          },
          "execution_count": 21
        },
        {
          "output_type": "display_data",
          "data": {
            "image/png": "[encoded data removed]",
            "text/plain": [
              "<matplotlib.figure.Figure at 0x7f95e6daafd0>"
            ]
          },
          "metadata": {
            "tags": []
          }
        }
      ]
    },
    {
      "metadata": {
        "id": "UQZ063_I1-rR",
        "colab_type": "text"
      },
      "cell_type": "markdown",
      "source": [
        "**Feature Scaling : **\n",
        "\n",
        "(Mean Normalization)"
      ]
    },
    {
      "metadata": {
        "id": "9W7jbfGv7Kgv",
        "colab_type": "text"
      },
      "cell_type": "markdown",
      "source": [
        "**Cost Function : **"
      ]
    },
    {
      "metadata": {
        "id": "4Iam886L7R1h",
        "colab_type": "code",
        "colab": {}
      },
      "cell_type": "code",
      "source": [
        "def cost(x,y,theta):\n",
        "  return (np.sum((np.matmul(np.transpose(theta),np.transpose(x))-y)**2)/(2*m))\n",
        "  "
      ],
      "execution_count": 0,
      "outputs": []
    },
    {
      "metadata": {
        "id": "X5bolWbVAgrz",
        "colab_type": "text"
      },
      "cell_type": "markdown",
      "source": [
        "**Gradient Descent : **"
      ]
    },
    {
      "metadata": {
        "id": "hCXfVA77AnMW",
        "colab_type": "code",
        "colab": {}
      },
      "cell_type": "code",
      "source": [
        "def grad(x, y, theta, a, itera):\n",
        "  temp = theta\n",
        "  jh = np.zeros((itera,1))\n",
        "  for i in range(0, itera):\n",
        "    for j in range(0, len(theta)):\n",
        "      temp[j,0] = temp[j,0] - (np.sum((np.matmul(np.transpose(theta),np.transpose(x))-y)*np.transpose(x)[j,:])*a/m) \n",
        "    theta = temp\n",
        "    jh[i] = cost(x, y, theta)\n",
        "  print(jh[-10:,:])"
      ],
      "execution_count": 0,
      "outputs": []
    },
    {
      "metadata": {
        "id": "sd_vBMRsDr5C",
        "colab_type": "code",
        "outputId": "de2a5ad1-1f3c-4cdc-c180-df1af71f023d",
        "colab": {
          "base_uri": "https://localhost:8080/",
          "height": 187
        }
      },
      "cell_type": "code",
      "source": [
        "grad(x, y, theta, 0.7, iterations)"
      ],
      "execution_count": 48,
      "outputs": [
        {
          "output_type": "stream",
          "text": [
            "[[6.99235899e+28]\n",
            " [6.97842770e+28]\n",
            " [6.96452417e+28]\n",
            " [6.95064834e+28]\n",
            " [6.93680016e+28]\n",
            " [6.92297957e+28]\n",
            " [6.90918651e+28]\n",
            " [6.89542094e+28]\n",
            " [6.88168279e+28]\n",
            " [6.86797201e+28]]\n"
          ],
          "name": "stdout"
        }
      ]
    },
    {
      "metadata": {
        "id": "JtxWfNsLq2o-",
        "colab_type": "code",
        "colab": {
          "base_uri": "https://localhost:8080/",
          "height": 986
        },
        "outputId": "22308e2a-7cc1-415d-b936-961d930237c5"
      },
      "cell_type": "code",
      "source": [
        "print(x)\n",
        "print(y)\n",
        "print(theta)\n",
        "print(a)\n",
        "print(iterations)"
      ],
      "execution_count": 8,
      "outputs": [
        {
          "output_type": "stream",
          "text": [
            "[[ 1.00000000e+000  1.31415422e-001 -2.26093368e-001]\n",
            " [ 1.00000000e+000  6.93086330e-310  2.07507571e-322]\n",
            " [ 1.00000000e+000  2.88831099e-274  1.47457021e-269]\n",
            " [ 1.00000000e+000  1.28305447e-202  1.23373013e-178]\n",
            " [ 1.00000000e+000 -3.01683458e+304 -1.00324112e-062]\n",
            " [ 1.00000000e+000  5.08843347e-317  1.16759514e+031]\n",
            " [ 1.00000000e+000  5.09020420e-317  1.19901480e+061]\n",
            " [ 1.00000000e+000  5.09020420e-317  2.53219617e+150]\n",
            " [ 1.00000000e+000  5.09020420e-317  7.75958301e+031]\n",
            " [ 1.00000000e+000  5.09020420e-317  1.23058702e+043]\n",
            " [ 1.00000000e+000  5.08715285e-317 -7.21946085e-240]\n",
            " [ 1.00000000e+000  5.08843347e-317 -3.59544277e+307]\n",
            " [ 1.00000000e+000  5.08715285e-317  5.37415384e+200]\n",
            " [ 1.00000000e+000  5.09020420e-317  3.37925684e+098]\n",
            " [ 1.00000000e+000  5.09020420e-317  2.25414799e+028]\n",
            " [ 1.00000000e+000  5.09020420e-317 -4.08374502e-180]\n",
            " [ 1.00000000e+000  5.08843347e-317  1.50877140e+054]\n",
            " [ 1.00000000e+000  6.93087817e-310  3.41617010e+059]\n",
            " [ 1.00000000e+000  5.09020420e-317 -2.05379050e-089]\n",
            " [ 1.00000000e+000  5.09020420e-317  3.01120210e-061]\n",
            " [ 1.00000000e+000  5.09020420e-317 -2.99161844e+056]\n",
            " [ 1.00000000e+000  5.09020420e-317  5.00136946e-175]\n",
            " [ 1.00000000e+000  5.08715285e-317  2.57225071e+233]\n",
            " [ 1.00000000e+000  5.08715285e-317 -1.84343515e-140]\n",
            " [ 1.00000000e+000  5.39043801e-317  5.11786386e-210]\n",
            " [ 1.00000000e+000  6.93084210e-310 -3.89729047e+301]\n",
            " [ 1.00000000e+000  5.09020420e-317 -2.09601808e+084]\n",
            " [ 1.00000000e+000  5.09020420e-317 -3.40533971e+276]\n",
            " [ 1.00000000e+000  5.09020420e-317 -5.69783967e+249]\n",
            " [ 1.00000000e+000  5.09020420e-317  4.31605658e-068]\n",
            " [ 1.00000000e+000  5.09020420e-317 -1.27988578e-213]\n",
            " [ 1.00000000e+000  6.93086329e-310 -1.16494239e+303]\n",
            " [ 1.00000000e+000  6.93084210e-310  1.36700364e-252]\n",
            " [ 1.00000000e+000  6.93084210e-310 -1.18661447e+265]\n",
            " [ 1.00000000e+000  6.93084210e-310  5.51819613e-140]\n",
            " [ 1.00000000e+000  6.93084210e-310 -1.13520066e+131]\n",
            " [ 1.00000000e+000  6.93084210e-310 -7.93579833e-161]\n",
            " [ 1.00000000e+000  5.09020420e-317  5.21529861e-246]\n",
            " [ 1.00000000e+000  6.93087653e-310  2.72988648e-236]\n",
            " [ 1.00000000e+000  6.93084492e-310  1.67661097e+196]\n",
            " [ 1.00000000e+000  5.09020420e-317 -2.40977039e-113]\n",
            " [ 1.00000000e+000  5.09020420e-317  4.50292943e-222]\n",
            " [ 1.00000000e+000  5.09020420e-317  1.63275453e+013]\n",
            " [ 1.00000000e+000  5.09020420e-317  1.49271850e-118]\n",
            " [ 1.00000000e+000  6.93087654e-310  1.00154681e-176]\n",
            " [ 1.00000000e+000  6.93086332e-310  4.52873520e-004]\n",
            " [ 1.00000000e+000  6.93084210e-310  0.00000000e+000]]\n",
            "[399900 329900 369000 232000 539900 299900 314900 198999 212000 242500\n",
            " 239999 347000 329999 699900 259900 449900 299900 199900 499998 599000\n",
            " 252900 255000 242900 259900 573900 249900 464500 469000 475000 299900\n",
            " 349900 169900 314900 579900 285900 249900 229900 345000 549000 287000\n",
            " 368500 329900 314000 299000 179900 299900 239500]\n",
            "[[0]\n",
            " [0]\n",
            " [0]]\n",
            "0.01\n",
            "400\n"
          ],
          "name": "stdout"
        }
      ]
    }
  ]
}