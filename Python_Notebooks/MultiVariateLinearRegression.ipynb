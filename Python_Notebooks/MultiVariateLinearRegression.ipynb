{
  "nbformat": 4,
  "nbformat_minor": 0,
  "metadata": {
    "colab": {
      "name": "MultiVariateLinearRegression.ipynb",
      "version": "0.3.2",
      "provenance": [],
      "collapsed_sections": [],
      "include_colab_link": true
    },
    "kernelspec": {
      "name": "python3",
      "display_name": "Python 3"
    }
  },
  "cells": [
    {
      "cell_type": "markdown",
      "metadata": {
        "id": "view-in-github",
        "colab_type": "text"
      },
      "source": [
        "<a href=\"https://colab.research.google.com/github/nreddyabhinav/ML/blob/master/Python_Notebooks/MultiVariateLinearRegression.ipynb\" target=\"_parent\"><img src=\"https://colab.research.google.com/assets/colab-badge.svg\" alt=\"Open In Colab\"/></a>"
      ]
    },
    {
      "metadata": {
        "id": "37Vig6v6L9pv",
        "colab_type": "text"
      },
      "cell_type": "markdown",
      "source": [
        "#Mount the drive First\n",
        "(If loading data from google drive)"
      ]
    },
    {
      "metadata": {
        "id": "meIThAKHLZfA",
        "colab_type": "code",
        "outputId": "77d91350-9d2d-4cfb-fe85-7f333bff70a6",
        "colab": {
          "base_uri": "https://localhost:8080/",
          "height": 122
        }
      },
      "cell_type": "code",
      "source": [
        "from google.colab import drive\n",
        "\n",
        "drive.mount(\"/content/drive\")"
      ],
      "execution_count": 3,
      "outputs": [
        {
          "output_type": "stream",
          "text": [
            "Go to this URL in a browser: https://accounts.google.com/o/oauth2/auth?client_id=947318989803-6bn6qk8qdgf4n4g3pfee6491hc0brc4i.apps.googleusercontent.com&redirect_uri=urn%3Aietf%3Awg%3Aoauth%3A2.0%3Aoob&scope=email%20https%3A%2F%2Fwww.googleapis.com%2Fauth%2Fdocs.test%20https%3A%2F%2Fwww.googleapis.com%2Fauth%2Fdrive%20https%3A%2F%2Fwww.googleapis.com%2Fauth%2Fdrive.photos.readonly%20https%3A%2F%2Fwww.googleapis.com%2Fauth%2Fpeopleapi.readonly&response_type=code\n",
            "\n",
            "Enter your authorization code:\n",
            "··········\n",
            "Mounted at /content/drive\n"
          ],
          "name": "stdout"
        }
      ]
    },
    {
      "metadata": {
        "id": "QPPg8CBXMTjQ",
        "colab_type": "text"
      },
      "cell_type": "markdown",
      "source": [
        "#Program Starts Here"
      ]
    },
    {
      "metadata": {
        "id": "Dlr0d6lEMTPU",
        "colab_type": "text"
      },
      "cell_type": "markdown",
      "source": [
        "**Import Libraries : **"
      ]
    },
    {
      "metadata": {
        "id": "H7EdOycRMLZw",
        "colab_type": "code",
        "colab": {}
      },
      "cell_type": "code",
      "source": [
        "import numpy as np\n",
        "import pandas as pd\n",
        "import matplotlib.pyplot as plt\n",
        "from mpl_toolkits.mplot3d import Axes3D \n",
        "from matplotlib import cm\n"
      ],
      "execution_count": 0,
      "outputs": []
    },
    {
      "metadata": {
        "id": "Gf8WPOWZT2S0",
        "colab_type": "text"
      },
      "cell_type": "markdown",
      "source": [
        "**Prepare data : **"
      ]
    },
    {
      "metadata": {
        "id": "CHNuYPCaM7h-",
        "colab_type": "code",
        "colab": {}
      },
      "cell_type": "code",
      "source": [
        "def fs(data):\n",
        "  for j in range(0,3):\n",
        "    mean = np.mean(data[:,j])\n",
        "    std = np.std(data[:,j])\n",
        "    for i in range(0,m):\n",
        "      datafs[i,j] = (data[i,j]-mean)/std\n",
        "  return datafs"
      ],
      "execution_count": 0,
      "outputs": []
    },
    {
      "metadata": {
        "id": "qrfdQxIHMqnN",
        "colab_type": "code",
        "outputId": "ee286826-5ce6-4c8a-86ae-777078a1cd54",
        "colab": {
          "base_uri": "https://localhost:8080/",
          "height": 347
        }
      },
      "cell_type": "code",
      "source": [
        "data = pd.read_csv(\"drive/My Drive/ColabNo/ex1data2.txt\",header=None)\n",
        "data = data.values\n",
        "m = len(data)\n",
        "datafs = np.ndarray((m,3))\n",
        "dat = fs(data)\n",
        "\n",
        "x = np.concatenate((np.ones((m,1)),dat[:,0:2]),axis=1)\n",
        "y = dat[:,2]\n",
        "x = np.around(x,decimals=4)\n",
        "np.around(y,decimals=4)\n",
        "theta = np.zeros((3,1)) #np.array([[0.],[0.],[0.]],dtype=np.float)\n",
        "a = 0.01\n",
        "iterations = 400\n",
        "jh = np.zeros((iterations,1))\n",
        "\n",
        "fig = plt.figure()\n",
        "ax = fig.gca(projection = '3d')\n",
        "ax.plot(x[:,1],x[:,2],y,'rX')"
      ],
      "execution_count": 77,
      "outputs": [
        {
          "output_type": "execute_result",
          "data": {
            "text/plain": [
              "[<mpl_toolkits.mplot3d.art3d.Line3D at 0x7ff825ead400>]"
            ]
          },
          "metadata": {
            "tags": []
          },
          "execution_count": 77
        },
        {
          "output_type": "display_data",
          "data": {
            "image/png": "[encoded data removed]",
            "text/plain": [
              "<matplotlib.figure.Figure at 0x7ff825e99438>"
            ]
          },
          "metadata": {
            "tags": []
          }
        }
      ]
    },
    {
      "metadata": {
        "id": "UQZ063_I1-rR",
        "colab_type": "text"
      },
      "cell_type": "markdown",
      "source": [
        "**Feature Scaling : **\n",
        "\n",
        "(Mean Normalization)"
      ]
    },
    {
      "metadata": {
        "id": "9W7jbfGv7Kgv",
        "colab_type": "text"
      },
      "cell_type": "markdown",
      "source": [
        "**Cost Function : **"
      ]
    },
    {
      "metadata": {
        "id": "4Iam886L7R1h",
        "colab_type": "code",
        "colab": {}
      },
      "cell_type": "code",
      "source": [
        "def cost(x,y,theta):\n",
        "  return (np.sum((np.matmul(np.transpose(theta),np.transpose(x))-y)**2)/(2*m))\n",
        "  "
      ],
      "execution_count": 0,
      "outputs": []
    },
    {
      "metadata": {
        "id": "6wbCDmw9007x",
        "colab_type": "code",
        "colab": {
          "base_uri": "https://localhost:8080/",
          "height": 34
        },
        "outputId": "8310e8dd-a691-4023-893d-44351329808e"
      },
      "cell_type": "code",
      "source": [
        "print(cost(x,y,theta))"
      ],
      "execution_count": 46,
      "outputs": [
        {
          "output_type": "stream",
          "text": [
            "0.5\n"
          ],
          "name": "stdout"
        }
      ]
    },
    {
      "metadata": {
        "id": "X5bolWbVAgrz",
        "colab_type": "text"
      },
      "cell_type": "markdown",
      "source": [
        "**Gradient Descent : **"
      ]
    },
    {
      "metadata": {
        "id": "hCXfVA77AnMW",
        "colab_type": "code",
        "colab": {}
      },
      "cell_type": "code",
      "source": [
        "def grad(x, y, theta, a, itera):\n",
        "  temp = theta\n",
        "  for i in range(0, itera):\n",
        "    for j in range(0, 3):\n",
        "      gd = (np.sum((np.matmul(np.transpose(theta),np.transpose(x))-y)*np.transpose(x)[j,:])*a/m)\n",
        "      temp[j,0] = temp[j,0] - gd \n",
        "    theta = temp\n",
        "    jh[i] = cost(x, y, theta)\n",
        "  print(jh[-10:,:])"
      ],
      "execution_count": 0,
      "outputs": []
    },
    {
      "metadata": {
        "id": "sd_vBMRsDr5C",
        "colab_type": "code",
        "outputId": "f9e25454-6ef9-4151-ba75-81002cbbaaa1",
        "colab": {
          "base_uri": "https://localhost:8080/",
          "height": 238
        }
      },
      "cell_type": "code",
      "source": [
        "grad(x, y, theta, a, iterations)\n",
        "print(theta)"
      ],
      "execution_count": 79,
      "outputs": [
        {
          "output_type": "stream",
          "text": [
            "[[0.13361772]\n",
            " [0.13361695]\n",
            " [0.13361618]\n",
            " [0.13361542]\n",
            " [0.13361466]\n",
            " [0.13361392]\n",
            " [0.13361317]\n",
            " [0.13361244]\n",
            " [0.13361171]\n",
            " [0.13361099]]\n",
            "[[-1.87468479e-07]\n",
            " [ 8.71154628e-01]\n",
            " [-3.96003249e-02]]\n"
          ],
          "name": "stdout"
        }
      ]
    },
    {
      "metadata": {
        "id": "QdolRC6_0JoE",
        "colab_type": "text"
      },
      "cell_type": "markdown",
      "source": [
        "# Testing"
      ]
    },
    {
      "metadata": {
        "id": "kLdDQHW7ubpE",
        "colab_type": "code",
        "colab": {
          "base_uri": "https://localhost:8080/",
          "height": 1020
        },
        "outputId": "dafa6d1c-385a-4474-b1a7-faa516b5bbdc"
      },
      "cell_type": "code",
      "source": [
        "for i in range(0,3):\n",
        "  print(np.max(data[:,i]))\n",
        "  print(np.min(data[:,i]))\n",
        "  print(np.mean(data[:,i]))\n",
        "  print(np.std(data[:,i],dtype=float))\n",
        "print(data)"
      ],
      "execution_count": 20,
      "outputs": [
        {
          "output_type": "stream",
          "text": [
            "4478\n",
            "852\n",
            "2000.6808510638298\n",
            "786.2026187430467\n",
            "5\n",
            "1\n",
            "3.1702127659574466\n",
            "0.7528428090618781\n",
            "699900\n",
            "169900\n",
            "340412.6595744681\n",
            "123702.5360061474\n",
            "[[  2104      3 399900]\n",
            " [  1600      3 329900]\n",
            " [  2400      3 369000]\n",
            " [  1416      2 232000]\n",
            " [  3000      4 539900]\n",
            " [  1985      4 299900]\n",
            " [  1534      3 314900]\n",
            " [  1427      3 198999]\n",
            " [  1380      3 212000]\n",
            " [  1494      3 242500]\n",
            " [  1940      4 239999]\n",
            " [  2000      3 347000]\n",
            " [  1890      3 329999]\n",
            " [  4478      5 699900]\n",
            " [  1268      3 259900]\n",
            " [  2300      4 449900]\n",
            " [  1320      2 299900]\n",
            " [  1236      3 199900]\n",
            " [  2609      4 499998]\n",
            " [  3031      4 599000]\n",
            " [  1767      3 252900]\n",
            " [  1888      2 255000]\n",
            " [  1604      3 242900]\n",
            " [  1962      4 259900]\n",
            " [  3890      3 573900]\n",
            " [  1100      3 249900]\n",
            " [  1458      3 464500]\n",
            " [  2526      3 469000]\n",
            " [  2200      3 475000]\n",
            " [  2637      3 299900]\n",
            " [  1839      2 349900]\n",
            " [  1000      1 169900]\n",
            " [  2040      4 314900]\n",
            " [  3137      3 579900]\n",
            " [  1811      4 285900]\n",
            " [  1437      3 249900]\n",
            " [  1239      3 229900]\n",
            " [  2132      4 345000]\n",
            " [  4215      4 549000]\n",
            " [  2162      4 287000]\n",
            " [  1664      2 368500]\n",
            " [  2238      3 329900]\n",
            " [  2567      4 314000]\n",
            " [  1200      3 299000]\n",
            " [   852      2 179900]\n",
            " [  1852      4 299900]\n",
            " [  1203      3 239500]]\n"
          ],
          "name": "stdout"
        }
      ]
    }
  ]
}