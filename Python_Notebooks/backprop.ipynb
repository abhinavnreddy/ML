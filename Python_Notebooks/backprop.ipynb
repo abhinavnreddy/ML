{
  "nbformat": 4,
  "nbformat_minor": 0,
  "metadata": {
    "colab": {
      "name": "backprop.ipynb",
      "version": "0.3.2",
      "provenance": [],
      "collapsed_sections": [
        "HE0-mqll9HO4"
      ],
      "include_colab_link": true
    },
    "kernelspec": {
      "name": "python3",
      "display_name": "Python 3"
    },
    "accelerator": "GPU"
  },
  "cells": [
    {
      "cell_type": "markdown",
      "metadata": {
        "id": "view-in-github",
        "colab_type": "text"
      },
      "source": [
        "<a href=\"https://colab.research.google.com/github/nreddyabhinav/ML/blob/master/Python_Notebooks/backprop.ipynb\" target=\"_parent\"><img src=\"https://colab.research.google.com/assets/colab-badge.svg\" alt=\"Open In Colab\"/></a>"
      ]
    },
    {
      "cell_type": "code",
      "metadata": {
        "id": "pxBPM-ItR6EQ",
        "colab_type": "code",
        "outputId": "b7a9e2cd-d462-4d08-b765-b633cc997d77",
        "colab": {
          "base_uri": "https://localhost:8080/",
          "height": 122
        }
      },
      "source": [
        "from google.colab import drive\n",
        "\n",
        "drive.mount(\"/content/drive\")"
      ],
      "execution_count": 0,
      "outputs": [
        {
          "output_type": "stream",
          "text": [
            "Go to this URL in a browser: https://accounts.google.com/o/oauth2/auth?client_id=947318989803-6bn6qk8qdgf4n4g3pfee6491hc0brc4i.apps.googleusercontent.com&redirect_uri=urn%3Aietf%3Awg%3Aoauth%3A2.0%3Aoob&scope=email%20https%3A%2F%2Fwww.googleapis.com%2Fauth%2Fdocs.test%20https%3A%2F%2Fwww.googleapis.com%2Fauth%2Fdrive%20https%3A%2F%2Fwww.googleapis.com%2Fauth%2Fdrive.photos.readonly%20https%3A%2F%2Fwww.googleapis.com%2Fauth%2Fpeopleapi.readonly&response_type=code\n",
            "\n",
            "Enter your authorization code:\n",
            "··········\n",
            "Mounted at /content/drive\n"
          ],
          "name": "stdout"
        }
      ]
    },
    {
      "cell_type": "code",
      "metadata": {
        "id": "4bXT5gvHsYav",
        "colab_type": "code",
        "colab": {}
      },
      "source": [
        "from scipy.io import loadmat\n",
        "import numpy as np\n",
        "import matplotlib as mpl\n",
        "import matplotlib.pyplot as plt"
      ],
      "execution_count": 0,
      "outputs": []
    },
    {
      "cell_type": "code",
      "metadata": {
        "id": "KOdFY7hPTBUV",
        "colab_type": "code",
        "colab": {}
      },
      "source": [
        "data = loadmat('drive/My Drive/ColabNo/nn/ex4data1.mat')\n",
        "ilu = 400\n",
        "hlu = 25\n",
        "olu = 10\n",
        "\n",
        "x = np.array(data['X'])\n",
        "y = np.array(data['y'])\n"
      ],
      "execution_count": 0,
      "outputs": []
    },
    {
      "cell_type": "code",
      "metadata": {
        "id": "rYuD8pZYGDoT",
        "colab_type": "code",
        "colab": {}
      },
      "source": [
        "#splitting the data\n",
        "\n",
        "count = np.zeros(np.max(y))\n",
        "\n",
        "a=[]\n",
        "b=[]\n",
        "c=[]\n",
        "d=[]\n",
        "for i in range(0,len(y)):\n",
        "  if(count[y[i]-1]<350):\n",
        "    a.append(x[i])\n",
        "    b.append(y[i])\n",
        "    count[y[i]-1] = count[y[i]-1]+1\n",
        "  else:\n",
        "    c.append(x[i])\n",
        "    d.append(y[i])\n",
        "    \n",
        "x=np.array(a)\n",
        "y=np.array(b)\n",
        "xtest=np.array(c)\n",
        "ytest=np.array(d)\n",
        "\n",
        "# np.random.shuffle(x)\n",
        "# np.random.shuffle(y)\n",
        "# np.random.shuffle(xtest)\n",
        "# np.random.shuffle(ytest)"
      ],
      "execution_count": 0,
      "outputs": []
    },
    {
      "cell_type": "markdown",
      "metadata": {
        "id": "MjZsRXdW8Qwv",
        "colab_type": "text"
      },
      "source": [
        "#checking y"
      ]
    },
    {
      "cell_type": "code",
      "metadata": {
        "id": "rOMRaXhhDCgN",
        "colab_type": "code",
        "outputId": "a8cf662e-c895-49d0-e216-d40ceb52bcc3",
        "colab": {
          "base_uri": "https://localhost:8080/",
          "height": 51
        }
      },
      "source": [
        "\n",
        "each = np.zeros(10)\n",
        "print(len(ytest))\n",
        "for i in range(0,len(ytest)):\n",
        "  each[ytest[i]-1]=each[ytest[i]-1]+1\n",
        "print(each)"
      ],
      "execution_count": 0,
      "outputs": [
        {
          "output_type": "stream",
          "text": [
            "1500\n",
            "[150. 150. 150. 150. 150. 150. 150. 150. 150. 150.]\n"
          ],
          "name": "stdout"
        }
      ]
    },
    {
      "cell_type": "markdown",
      "metadata": {
        "id": "kECGEYe48UaA",
        "colab_type": "text"
      },
      "source": [
        "#converting y to a vector\n"
      ]
    },
    {
      "cell_type": "code",
      "metadata": {
        "id": "A35DT2iqHcte",
        "colab_type": "code",
        "outputId": "ba774f5e-ad13-4d76-89c8-a1d4c53ed2e4",
        "colab": {
          "base_uri": "https://localhost:8080/",
          "height": 187
        }
      },
      "source": [
        "\n",
        "\n",
        "print(y[1000:1005])\n",
        "highest = max(y)[0]\n",
        "Y = np.zeros((1,highest))\n",
        "for i in y:\n",
        "  temp = np.zeros((1,highest))\n",
        "  temp[0][i[0]-1]=1\n",
        "#   print(temp)\n",
        "  Y = np.concatenate((Y,temp),axis=0)\n",
        "\n",
        "Y= Y[1:]\n",
        "\n",
        "print(Y[1000:1005])"
      ],
      "execution_count": 0,
      "outputs": [
        {
          "output_type": "stream",
          "text": [
            "[[2]\n",
            " [2]\n",
            " [2]\n",
            " [2]\n",
            " [2]]\n",
            "[[0. 1. 0. 0. 0. 0. 0. 0. 0. 0.]\n",
            " [0. 1. 0. 0. 0. 0. 0. 0. 0. 0.]\n",
            " [0. 1. 0. 0. 0. 0. 0. 0. 0. 0.]\n",
            " [0. 1. 0. 0. 0. 0. 0. 0. 0. 0.]\n",
            " [0. 1. 0. 0. 0. 0. 0. 0. 0. 0.]]\n"
          ],
          "name": "stdout"
        }
      ]
    },
    {
      "cell_type": "code",
      "metadata": {
        "id": "zxjtLtuPBS2z",
        "colab_type": "code",
        "outputId": "a69e245c-8375-44e9-d1b9-76874a4bcb8f",
        "colab": {
          "base_uri": "https://localhost:8080/",
          "height": 187
        }
      },
      "source": [
        "#changing test y data to a vector\n",
        "\n",
        "print(ytest[1000:1005])\n",
        "highest = max(ytest)[0]\n",
        "Ytest = np.zeros((1,highest))\n",
        "for i in ytest:\n",
        "  temp = np.zeros((1,highest))\n",
        "  temp[0][i[0]-1]=1\n",
        "#   print(temp)\n",
        "  Ytest = np.concatenate((Ytest,temp),axis=0)\n",
        "\n",
        "Ytest= Ytest[1:]\n",
        "\n",
        "print(Ytest[1000:1005])"
      ],
      "execution_count": 0,
      "outputs": [
        {
          "output_type": "stream",
          "text": [
            "[[6]\n",
            " [6]\n",
            " [6]\n",
            " [6]\n",
            " [6]]\n",
            "[[0. 0. 0. 0. 0. 1. 0. 0. 0. 0.]\n",
            " [0. 0. 0. 0. 0. 1. 0. 0. 0. 0.]\n",
            " [0. 0. 0. 0. 0. 1. 0. 0. 0. 0.]\n",
            " [0. 0. 0. 0. 0. 1. 0. 0. 0. 0.]\n",
            " [0. 0. 0. 0. 0. 1. 0. 0. 0. 0.]]\n"
          ],
          "name": "stdout"
        }
      ]
    },
    {
      "cell_type": "markdown",
      "metadata": {
        "id": "TQGhi1cZ8lC6",
        "colab_type": "text"
      },
      "source": [
        "#Displaying a number"
      ]
    },
    {
      "cell_type": "code",
      "metadata": {
        "id": "HcYOoykn2mjj",
        "colab_type": "code",
        "outputId": "45afe578-c15b-4aef-9093-02ec476355e2",
        "colab": {
          "base_uri": "https://localhost:8080/",
          "height": 286
        }
      },
      "source": [
        "grid =np.reshape(x[2199,:],(20,20)).T\n",
        "\n",
        "mpl.pyplot.imshow(grid,origin=\"upper\")\n",
        "print(Y[2199])"
      ],
      "execution_count": 0,
      "outputs": [
        {
          "output_type": "stream",
          "text": [
            "[0. 0. 0. 0. 0. 1. 0. 0. 0. 0.]\n"
          ],
          "name": "stdout"
        },
        {
          "output_type": "display_data",
          "data": {
            "image/png": "[encoded data removed]",
            "text/plain": [
              "<Figure size 432x288 with 1 Axes>"
            ]
          },
          "metadata": {
            "tags": []
          }
        }
      ]
    },
    {
      "cell_type": "markdown",
      "metadata": {
        "id": "gnnUMrQxj53w",
        "colab_type": "text"
      },
      "source": [
        "# Sigmoid function :"
      ]
    },
    {
      "cell_type": "code",
      "metadata": {
        "id": "tnh2FMBIj5Ui",
        "colab_type": "code",
        "colab": {}
      },
      "source": [
        "def sigmoid(s):\n",
        "  return 1/(1+np.exp(-s))"
      ],
      "execution_count": 0,
      "outputs": []
    },
    {
      "cell_type": "code",
      "metadata": {
        "id": "EAD2GpYkYCB1",
        "colab_type": "code",
        "colab": {}
      },
      "source": [
        "def sigGradient(g):\n",
        "  g = sigmoid(g)\n",
        "  return g*(1-g)"
      ],
      "execution_count": 0,
      "outputs": []
    },
    {
      "cell_type": "markdown",
      "metadata": {
        "id": "ueze0NOVGzBK",
        "colab_type": "text"
      },
      "source": [
        "#cost function"
      ]
    },
    {
      "cell_type": "code",
      "metadata": {
        "id": "fEcYj3IrG39J",
        "colab_type": "code",
        "colab": {}
      },
      "source": [
        "def cost(h):\n",
        "#   s = 0\n",
        "#   for i in range(0,m):\n",
        "#     s= s+ (np.matmul((-Y[i]),np.log(h[i]).T)-np.matmul((1-Y[i]),np.log((1-h[i] )).T ))\n",
        "    \n",
        "#   return s/m\n",
        "  return np.sum(np.sum((-Y)*np.log(h),axis=1)-np.sum((1-Y)*np.log(1-h),axis=1) )/m"
      ],
      "execution_count": 0,
      "outputs": []
    },
    {
      "cell_type": "markdown",
      "metadata": {
        "id": "jOoWxvhpD2u_",
        "colab_type": "text"
      },
      "source": [
        "#vectorized and regularized cost function "
      ]
    },
    {
      "cell_type": "code",
      "metadata": {
        "id": "eu2HMpOlA9vo",
        "colab_type": "code",
        "colab": {}
      },
      "source": [
        "def costvec(h,l):\n",
        "  return (np.sum(np.sum((-Y)*np.log(h),axis=1)-np.sum((1-Y)*np.log(1-h), axis=1))/m)+(np.sum(np.sum(theta1[:,1:]**2,axis=0))+np.sum(np.sum(theta2[:,1:]**2,axis=0)))*l/(2*m) "
      ],
      "execution_count": 0,
      "outputs": []
    },
    {
      "cell_type": "markdown",
      "metadata": {
        "id": "QCl71i_OMbNi",
        "colab_type": "text"
      },
      "source": [
        "#Backpropagation"
      ]
    },
    {
      "cell_type": "code",
      "metadata": {
        "id": "m9LdEKnuMfXD",
        "colab_type": "code",
        "colab": {}
      },
      "source": [
        "def bpANG(a,z,theta,alpha):\n",
        "    d={}\n",
        "    b3 = a[\"a3\"] - Y\n",
        "    b2 = np.matmul(b3,theta[\"theta2\"])[:,1:]*sigGradient(z[\"z1\"])\n",
        "    d[\"d1\"] = (np.matmul(b2.T,a[\"a1\"]) /m)*alpha\n",
        "    d[\"d2\"] = (np.matmul(b3.T,a[\"a2\"]) /m)*alpha\n",
        "    return d\n",
        "    "
      ],
      "execution_count": 0,
      "outputs": []
    },
    {
      "cell_type": "code",
      "metadata": {
        "id": "qfw9j794iYth",
        "colab_type": "code",
        "colab": {}
      },
      "source": [
        "def bpCp(a,z,theta,m,alpha):\n",
        "  d={}\n",
        "  similar = ((a[\"a3\"]-Y)/(a[\"a3\"]*m*(1-a[\"a3\"])))*sigGradient(z[\"z2\"])\n",
        "  d[\"d2\"] = np.matmul(similar.T,a[\"a2\"])*alpha\n",
        "  d[\"d1\"] = np.matmul((np.matmul(similar,theta[\"theta2\"])*sigGradient(z[\"z1\"])).T[1:,:],a[\"a1\"])*alpha\n",
        "  return d"
      ],
      "execution_count": 0,
      "outputs": []
    },
    {
      "cell_type": "markdown",
      "metadata": {
        "id": "Pf9jkQchi_Br",
        "colab_type": "text"
      },
      "source": [
        "#Initialize Theta"
      ]
    },
    {
      "cell_type": "code",
      "metadata": {
        "id": "POG0I_sDYIE1",
        "colab_type": "code",
        "outputId": "d5d145db-8b5b-4eca-f397-a90148677a59",
        "colab": {
          "base_uri": "https://localhost:8080/",
          "height": 238
        }
      },
      "source": [
        "theta={}\n",
        "m=3500\n",
        "e1 = round((6**(0.5))/((hlu+ilu+1)**(0.5)),2)\n",
        "print(e1)\n",
        "theta[\"theta1\"]=np.random.uniform(-e1,e1,(hlu,ilu+1))\n",
        "e2 = round((6**(0.5))/((hlu+olu+1)**(0.5)),2)\n",
        "print(e2)\n",
        "theta[\"theta2\"]=np.random.uniform(-e2,e2,(olu,hlu+1))\n",
        "print(np.shape(theta['theta1']))\n",
        "print(np.shape(theta['theta2']))\n",
        "\n",
        "a={}\n",
        "z={}\n",
        "\n",
        "a['a1'] = np.concatenate((np.ones((m,1)),x),axis=1)\n",
        "z['z1'] = np.concatenate((np.ones((m,1)),np.matmul(a['a1'],theta['theta1'].T)),axis=1)\n",
        "a['a2'] = sigmoid(z['z1'])\n",
        "z['z2'] = np.matmul(a[\"a2\"],theta['theta2'].T)\n",
        "a['a3'] = sigmoid(z['z2'])\n",
        "\n",
        "\n",
        "J = np.array([cost(a[\"a3\"])])\n",
        "print(J)\n",
        "print(\"_____________________________________\")\n",
        "print(np.shape(a[\"a1\"]))\n",
        "print(np.shape(a[\"a2\"]))\n",
        "print(np.shape(a[\"a3\"]))\n",
        "print(np.shape(z[\"z1\"]))\n",
        "print(np.shape(z[\"z2\"]))\n",
        "print(np.shape(theta[\"theta1\"]))\n",
        "print(np.shape(theta[\"theta2\"]))"
      ],
      "execution_count": 0,
      "outputs": [
        {
          "output_type": "stream",
          "text": [
            "0.12\n",
            "0.41\n",
            "(25, 401)\n",
            "(10, 26)\n",
            "[7.86875695]\n",
            "_____________________________________\n",
            "(3500, 401)\n",
            "(3500, 26)\n",
            "(3500, 10)\n",
            "(3500, 26)\n",
            "(3500, 10)\n",
            "(25, 401)\n",
            "(10, 26)\n"
          ],
          "name": "stdout"
        }
      ]
    },
    {
      "cell_type": "markdown",
      "metadata": {
        "id": "KsijXaGF9zCZ",
        "colab_type": "text"
      },
      "source": [
        "#Train"
      ]
    },
    {
      "cell_type": "code",
      "metadata": {
        "id": "qtdU-UilZ7o2",
        "colab_type": "code",
        "outputId": "d9070a7e-4b1b-4091-e660-86b4c5ce1e6f",
        "colab": {
          "base_uri": "https://localhost:8080/",
          "height": 51
        }
      },
      "source": [
        "\n",
        "a={}\n",
        "z={}\n",
        "for i in range(0,3500):\n",
        "  a['a1'] = np.concatenate((np.ones((m,1)),x),axis=1)\n",
        "  z['z1'] = np.concatenate((np.ones((m,1)),np.matmul(a['a1'],theta['theta1'].T)),axis=1)\n",
        "  a['a2'] = sigmoid(z['z1'])\n",
        "  z['z2'] = np.matmul(a[\"a2\"],theta['theta2'].T)\n",
        "  a['a3'] = sigmoid(z['z2'])\n",
        "  \n",
        "#   D1,D2 = bpANG(0.1)\n",
        "#   print(D1[1][1])\n",
        "#   print(D2[1][1])\n",
        "#   print(cost(a3))\n",
        "\n",
        "\n",
        "\n",
        "  d = bpCp(a,z,theta,3500,0.5)\n",
        "#   d = bpANG(a,z,theta,0.5)\n",
        "  theta[\"theta1\"] = theta[\"theta1\"] - d[\"d1\"]\n",
        "  theta[\"theta2\"] = theta['theta2'] - d[\"d2\"]\n",
        "  J = np.concatenate((J,[cost(a[\"a3\"])]))\n",
        "#   stdout.flush()\n",
        "  print(\"\\r\",end=\"\")\n",
        "  print(i,end=\"\")\n",
        "print(\"\\nThe cost is: \",end=\"\")\n",
        "print(cost(a[\"a3\"]))"
      ],
      "execution_count": 0,
      "outputs": [
        {
          "output_type": "stream",
          "text": [
            "3499\n",
            "The cost is: 0.1777208887830438\n"
          ],
          "name": "stdout"
        }
      ]
    },
    {
      "cell_type": "markdown",
      "metadata": {
        "id": "mrmKDmyP9VRX",
        "colab_type": "text"
      },
      "source": [
        "#Testing"
      ]
    },
    {
      "cell_type": "code",
      "metadata": {
        "id": "z7I6qDF8efoT",
        "colab_type": "code",
        "outputId": "327539ee-1019-4178-bbde-4e12f2505a51",
        "colab": {
          "base_uri": "https://localhost:8080/",
          "height": 85
        }
      },
      "source": [
        "mt=np.shape(xtest)[0]\n",
        "\n",
        "te1 = np.concatenate((np.ones((mt,1)),xtest),axis=1)\n",
        "te2 = np.concatenate((np.ones((mt,1)),sigmoid(np.matmul(te1,theta[\"theta1\"].T))),axis=1)\n",
        "te3 = sigmoid(np.matmul(te2,theta[\"theta2\"].T))\n",
        "c=0\n",
        "y=0\n",
        "n=0\n",
        "for i in range(0,mt):\n",
        "  for j in range(0,10):\n",
        "    if(te3[i,j]>0.3):\n",
        "      te3[i,j] = 1\n",
        "      y=y+1\n",
        "    else:\n",
        "      te3[i,j]=0\n",
        "  if(np.array_equal(te3[i],Ytest[i])):\n",
        "    c=c+1\n",
        "\n",
        "print(c)\n",
        "print(y)\n",
        "print(\"accuracy\")\n",
        "print(c/mt)"
      ],
      "execution_count": 0,
      "outputs": [
        {
          "output_type": "stream",
          "text": [
            "1300\n",
            "1536\n",
            "accuracy\n",
            "0.8666666666666667\n"
          ],
          "name": "stdout"
        }
      ]
    },
    {
      "cell_type": "code",
      "metadata": {
        "id": "BGyHYKSpeJk0",
        "colab_type": "code",
        "outputId": "fec06880-3e99-4e37-c6a8-bd49182bac08",
        "colab": {
          "base_uri": "https://localhost:8080/",
          "height": 269
        }
      },
      "source": [
        "plt.plot(J)\n",
        "plt.show()"
      ],
      "execution_count": 0,
      "outputs": [
        {
          "output_type": "display_data",
          "data": {
            "image/png": "[encoded data removed]",
            "text/plain": [
              "<Figure size 432x288 with 1 Axes>"
            ]
          },
          "metadata": {
            "tags": []
          }
        }
      ]
    },
    {
      "cell_type": "markdown",
      "metadata": {
        "id": "HE0-mqll9HO4",
        "colab_type": "text"
      },
      "source": [
        "#Rough"
      ]
    },
    {
      "cell_type": "code",
      "metadata": {
        "id": "ahlRgwGBoJNN",
        "colab_type": "code",
        "outputId": "e911ef82-9103-431a-8f57-7e648012627f",
        "colab": {
          "base_uri": "https://localhost:8080/",
          "height": 204
        }
      },
      "source": [
        "theta={}\n",
        "\n",
        "e1 = round((6**(0.5))/((hlu+ilu+1)**(0.5)),2)\n",
        "print(e1)\n",
        "theta[\"theta1\"]=np.random.uniform(-e1,e1,(hlu,ilu+1))\n",
        "e2 = round((6**(0.5))/((hlu+olu+1)**(0.5)),2)\n",
        "print(e2)\n",
        "theta[\"theta2\"]=np.random.uniform(-e2,e2,(olu,hlu+1))\n",
        "print(np.shape(theta['theta1']))\n",
        "print(np.shape(theta['theta2']))\n",
        "\n",
        "\n",
        "a={}\n",
        "z={}\n",
        "a['a1'] = np.concatenate((np.ones((m,1)),x),axis=1)\n",
        "z['z1'] = np.matmul(a['a1'],theta['theta1'].T)\n",
        "a['a2'] = np.concatenate((np.ones((m,1)),sigmoid(z['z1'])),axis=1)\n",
        "z['z2'] = np.matmul(a[\"a2\"],theta['theta2'].T)\n",
        "a['a3'] = sigmoid(z['z2'])\n",
        "\n",
        "print(np.shape(a[\"a3\"]))\n",
        "print(np.shape(Y))\n",
        "print(np.shape(z[\"z2\"]))\n",
        "print(np.shape(a[\"a2\"]))\n",
        "print(np.shape(theta[\"theta2\"]))\n",
        "print(np.shape(z[\"z1\"]))\n",
        "print(np.shape(a[\"a1\"]))"
      ],
      "execution_count": 0,
      "outputs": [
        {
          "output_type": "stream",
          "text": [
            "0.12\n",
            "0.41\n",
            "(25, 401)\n",
            "(10, 26)\n",
            "(3500, 10)\n",
            "(3500, 10)\n",
            "(3500, 10)\n",
            "(3500, 26)\n",
            "(10, 26)\n",
            "(3500, 25)\n",
            "(3500, 401)\n"
          ],
          "name": "stdout"
        }
      ]
    },
    {
      "cell_type": "code",
      "metadata": {
        "id": "ix-jVjy0hl4V",
        "colab_type": "code",
        "colab": {}
      },
      "source": [
        "\n",
        "a={}\n",
        "z={}\n",
        "for i in range(0,3500):\n",
        "  a['a1'] = x\n",
        "  z['z1'] = np.matmul(np.concatenate((np.ones((m,1)),a['a1']),axis=1),theta['theta1'].T)\n",
        "  a['a2'] = sigmoid(z['z1'])\n",
        "  z['z2'] = np.matmul(np.concatenate((np.ones((m,1)),a[\"a2\"]),axis=1),theta['theta2'].T)\n",
        "  a['a3'] = sigmoid(z['z2'])\n",
        "  \n",
        "#   D1,D2 = bpANG(0.1)\n",
        "#   print(D1[1][1])\n",
        "#   print(D2[1][1])\n",
        "#   print(cost(a3))\n",
        "\n",
        "\n",
        "\n",
        "#   d = bpCp(a,z,theta,0.1)\n",
        "  d = bpANG(a,z,theta,0.5)\n",
        "  theta[\"theta1\"] = theta[\"theta1\"] - d[\"d1\"]\n",
        "  theta[\"theta2\"] = theta['theta2'] - d[\"d2\"]\n",
        "  J = np.concatenate((J,[cost(a[\"a3\"])]))\n",
        "#   stdout.flush()\n",
        "  print(\"\\r\",end=\"\")\n",
        "  print(i,end=\"\")\n",
        "print(\"\\nThe cost is: \",end=\"\")\n",
        "print(cost(a[\"a3\"]))"
      ],
      "execution_count": 0,
      "outputs": []
    },
    {
      "cell_type": "code",
      "metadata": {
        "id": "JugDvn7zPf9h",
        "colab_type": "code",
        "colab": {}
      },
      "source": [
        "def test(h):\n",
        "  m=3500\n",
        "  return np.sum(np.sum((-Y)*np.log(h),axis=1)-np.sum((1-Y)*np.log(1-h),axis=1) )/m"
      ],
      "execution_count": 0,
      "outputs": []
    }
  ]
}