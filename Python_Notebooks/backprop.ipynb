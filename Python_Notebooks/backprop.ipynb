{
  "nbformat": 4,
  "nbformat_minor": 0,
  "metadata": {
    "colab": {
      "name": "backprop.ipynb",
      "version": "0.3.2",
      "provenance": [],
      "collapsed_sections": [],
      "include_colab_link": true
    },
    "kernelspec": {
      "name": "python3",
      "display_name": "Python 3"
    }
  },
  "cells": [
    {
      "cell_type": "markdown",
      "metadata": {
        "id": "view-in-github",
        "colab_type": "text"
      },
      "source": [
        "<a href=\"https://colab.research.google.com/github/nreddyabhinav/ML/blob/master/Python_Notebooks/backprop.ipynb\" target=\"_parent\"><img src=\"https://colab.research.google.com/assets/colab-badge.svg\" alt=\"Open In Colab\"/></a>"
      ]
    },
    {
      "metadata": {
        "id": "pxBPM-ItR6EQ",
        "colab_type": "code",
        "outputId": "fa8630b4-e0d6-4b66-c6a0-5c7b4132d5f6",
        "colab": {
          "base_uri": "https://localhost:8080/",
          "height": 122
        }
      },
      "cell_type": "code",
      "source": [
        "from google.colab import drive\n",
        "\n",
        "drive.mount(\"/content/drive\")"
      ],
      "execution_count": 0,
      "outputs": [
        {
          "output_type": "stream",
          "text": [
            "Go to this URL in a browser: https://accounts.google.com/o/oauth2/auth?client_id=947318989803-6bn6qk8qdgf4n4g3pfee6491hc0brc4i.apps.googleusercontent.com&redirect_uri=urn%3Aietf%3Awg%3Aoauth%3A2.0%3Aoob&scope=email%20https%3A%2F%2Fwww.googleapis.com%2Fauth%2Fdocs.test%20https%3A%2F%2Fwww.googleapis.com%2Fauth%2Fdrive%20https%3A%2F%2Fwww.googleapis.com%2Fauth%2Fdrive.photos.readonly%20https%3A%2F%2Fwww.googleapis.com%2Fauth%2Fpeopleapi.readonly&response_type=code\n",
            "\n",
            "Enter your authorization code:\n",
            "··········\n",
            "Mounted at /content/drive\n"
          ],
          "name": "stdout"
        }
      ]
    },
    {
      "metadata": {
        "id": "4bXT5gvHsYav",
        "colab_type": "code",
        "colab": {}
      },
      "cell_type": "code",
      "source": [
        "from scipy.io import loadmat\n",
        "import numpy as np\n",
        "import matplotlib as mpl"
      ],
      "execution_count": 0,
      "outputs": []
    },
    {
      "metadata": {
        "id": "KOdFY7hPTBUV",
        "colab_type": "code",
        "colab": {}
      },
      "cell_type": "code",
      "source": [
        "data = loadmat('drive/My Drive/ColabNo/nn/ex4data1.mat')\n",
        "theta = loadmat('drive/My Drive/ColabNo/nn/ex4weights.mat')"
      ],
      "execution_count": 0,
      "outputs": []
    },
    {
      "metadata": {
        "id": "xpcpsf3BrQjh",
        "colab_type": "code",
        "colab": {}
      },
      "cell_type": "code",
      "source": [
        "ilu = 400\n",
        "hlu = 25\n",
        "olu = 10\n",
        "\n",
        "x = np.array(data['X'])\n",
        "y = np.array(data['y'])\n",
        "theta1 = np.array(theta['Theta1'])\n",
        "theta2 = np.array(theta['Theta2'])"
      ],
      "execution_count": 0,
      "outputs": []
    },
    {
      "metadata": {
        "id": "A35DT2iqHcte",
        "colab_type": "code",
        "outputId": "d345ad43-89bb-48aa-ca67-541f82c76ad4",
        "colab": {
          "base_uri": "https://localhost:8080/",
          "height": 187
        }
      },
      "cell_type": "code",
      "source": [
        "print(y[1000:1005])\n",
        "highest = max(y)[0]\n",
        "Y = np.zeros((1,highest))\n",
        "for i in y:\n",
        "  temp = np.zeros((1,highest))\n",
        "  temp[0][i[0]-1]=1\n",
        "#   print(temp)\n",
        "  Y = np.concatenate((Y,temp),axis=0)\n",
        "\n",
        "Y= Y[1:]\n",
        "print(Y[1000:1005])"
      ],
      "execution_count": 0,
      "outputs": [
        {
          "output_type": "stream",
          "text": [
            "[[2]\n",
            " [2]\n",
            " [2]\n",
            " [2]\n",
            " [2]]\n",
            "[[0. 1. 0. 0. 0. 0. 0. 0. 0. 0.]\n",
            " [0. 1. 0. 0. 0. 0. 0. 0. 0. 0.]\n",
            " [0. 1. 0. 0. 0. 0. 0. 0. 0. 0.]\n",
            " [0. 1. 0. 0. 0. 0. 0. 0. 0. 0.]\n",
            " [0. 1. 0. 0. 0. 0. 0. 0. 0. 0.]]\n"
          ],
          "name": "stdout"
        }
      ]
    },
    {
      "metadata": {
        "id": "8ltQqlcXrr_V",
        "colab_type": "code",
        "outputId": "f2151a24-4fcc-4511-f258-721e6ae94a82",
        "colab": {
          "base_uri": "https://localhost:8080/",
          "height": 119
        }
      },
      "cell_type": "code",
      "source": [
        "print(np.shape(theta1))\n",
        "print(np.shape(theta2))\n",
        "print(np.shape(x))\n",
        "print(np.shape(y))\n",
        "\n",
        "print(np.shape(Y))\n",
        "m = np.shape(x)[0]\n",
        "print(m)"
      ],
      "execution_count": 0,
      "outputs": [
        {
          "output_type": "stream",
          "text": [
            "(25, 401)\n",
            "(10, 26)\n",
            "(5000, 400)\n",
            "(5000, 1)\n",
            "(5000, 10)\n",
            "5000\n"
          ],
          "name": "stdout"
        }
      ]
    },
    {
      "metadata": {
        "id": "HcYOoykn2mjj",
        "colab_type": "code",
        "outputId": "c333d9d3-f2a3-4f8e-dd77-f409863bf7ca",
        "colab": {
          "base_uri": "https://localhost:8080/",
          "height": 286
        }
      },
      "cell_type": "code",
      "source": [
        "grid =np.reshape(x[2199,:],(20,20)).T\n",
        "\n",
        "mpl.pyplot.imshow(grid,origin=\"upper\")"
      ],
      "execution_count": 0,
      "outputs": [
        {
          "output_type": "execute_result",
          "data": {
            "text/plain": [
              "<matplotlib.image.AxesImage at 0x7fb7a4e7e940>"
            ]
          },
          "metadata": {
            "tags": []
          },
          "execution_count": 49
        },
        {
          "output_type": "display_data",
          "data": {
            "image/png": "[encoded data removed]",
            "text/plain": [
              "<Figure size 432x288 with 1 Axes>"
            ]
          },
          "metadata": {
            "tags": []
          }
        }
      ]
    },
    {
      "metadata": {
        "id": "gnnUMrQxj53w",
        "colab_type": "text"
      },
      "cell_type": "markdown",
      "source": [
        "# Sigmoid function :"
      ]
    },
    {
      "metadata": {
        "id": "tnh2FMBIj5Ui",
        "colab_type": "code",
        "colab": {}
      },
      "cell_type": "code",
      "source": [
        "def sigmoid(s):\n",
        "  return 1/(1+np.exp(-s))"
      ],
      "execution_count": 0,
      "outputs": []
    },
    {
      "metadata": {
        "id": "EAD2GpYkYCB1",
        "colab_type": "code",
        "colab": {}
      },
      "cell_type": "code",
      "source": [
        "def sigGradient(g):\n",
        "  g = sigmoid(g)\n",
        "  return g*(1-g)"
      ],
      "execution_count": 0,
      "outputs": []
    },
    {
      "metadata": {
        "id": "ueze0NOVGzBK",
        "colab_type": "text"
      },
      "cell_type": "markdown",
      "source": [
        "#cost function"
      ]
    },
    {
      "metadata": {
        "id": "fEcYj3IrG39J",
        "colab_type": "code",
        "colab": {}
      },
      "cell_type": "code",
      "source": [
        "def cost(h):\n",
        "  s = 0\n",
        "  for i in range(0,m):\n",
        "    s= s+ (np.matmul((-Y[i]),np.log(h[i]).T)-np.matmul((1-Y[i]),np.log((1-h[i] )).T ))\n",
        "    \n",
        "  return s/m"
      ],
      "execution_count": 0,
      "outputs": []
    },
    {
      "metadata": {
        "id": "jOoWxvhpD2u_",
        "colab_type": "text"
      },
      "cell_type": "markdown",
      "source": [
        "#vectorized and regularized cost function "
      ]
    },
    {
      "metadata": {
        "id": "eu2HMpOlA9vo",
        "colab_type": "code",
        "colab": {}
      },
      "cell_type": "code",
      "source": [
        "def costvec(h,l):\n",
        "  return (np.sum(np.sum((-Y)*np.log(h),axis=1)-np.sum((1-Y)*np.log(1-h), axis=1))/m)+(np.sum(np.sum(theta1[:,1:]**2,axis=0))+np.sum(np.sum(theta2[:,1:]**2,axis=0)))*l/(2*m) "
      ],
      "execution_count": 0,
      "outputs": []
    },
    {
      "metadata": {
        "id": "Pf9jkQchi_Br",
        "colab_type": "text"
      },
      "cell_type": "markdown",
      "source": [
        "#Get all the perceptron values (a^(i))"
      ]
    },
    {
      "metadata": {
        "id": "A3cZRuLRW_nJ",
        "colab_type": "code",
        "outputId": "64219f5e-5cd5-4429-b49a-9f7c0288997c",
        "colab": {
          "base_uri": "https://localhost:8080/",
          "height": 85
        }
      },
      "cell_type": "code",
      "source": [
        "e1 = round((6**(0.5))/((hlu+ilu+1)**(0.5)),2)\n",
        "print(e1)\n",
        "theta1=np.random.uniform(-e1,e1,(hlu,ilu+1))\n",
        "e2 = round((6**(0.5))/((hlu+olu+1)**(0.5)),2)\n",
        "print(e2)\n",
        "theta2=np.random.uniform(-e2,e2,(olu,hlu+1))\n",
        "print(np.shape(theta1))\n",
        "print(np.shape(theta2))"
      ],
      "execution_count": 0,
      "outputs": [
        {
          "output_type": "stream",
          "text": [
            "0.12\n",
            "0.41\n",
            "(25, 401)\n",
            "(10, 26)\n"
          ],
          "name": "stdout"
        }
      ]
    },
    {
      "metadata": {
        "id": "WsLrDpO4i9dx",
        "colab_type": "code",
        "outputId": "071dbb09-56c8-476a-b479-c988d32d740a",
        "colab": {
          "base_uri": "https://localhost:8080/",
          "height": 34
        }
      },
      "cell_type": "code",
      "source": [
        "\n",
        "\n",
        "a1 = np.concatenate((np.ones((m,1)),x),axis=1)\n",
        "a2 = np.concatenate((np.ones((m,1)),sigmoid(np.matmul(a1,theta1.T))),axis=1)\n",
        "a3 = sigmoid(np.matmul(a2,theta2.T))\n",
        "\n",
        "\n",
        "J = costvec(a3,1)\n",
        "print(J)"
      ],
      "execution_count": 0,
      "outputs": [
        {
          "output_type": "stream",
          "text": [
            "7.221584636140757\n"
          ],
          "name": "stdout"
        }
      ]
    },
    {
      "metadata": {
        "id": "FKlF23OstIrR",
        "colab_type": "code",
        "outputId": "7105dc7f-b997-4c07-8995-9f5311306227",
        "colab": {
          "base_uri": "https://localhost:8080/",
          "height": 102
        }
      },
      "cell_type": "code",
      "source": [
        "print(sigGradient(0))\n",
        "print(sigGradient(123))\n",
        "print(sigGradient(-1213))"
      ],
      "execution_count": 0,
      "outputs": [
        {
          "output_type": "stream",
          "text": [
            "0.25\n",
            "0.0\n",
            "0.0\n"
          ],
          "name": "stdout"
        },
        {
          "output_type": "stream",
          "text": [
            "/usr/local/lib/python3.6/dist-packages/ipykernel_launcher.py:2: RuntimeWarning: overflow encountered in exp\n",
            "  \n"
          ],
          "name": "stderr"
        }
      ]
    },
    {
      "metadata": {
        "id": "f_I1mOJ6B162",
        "colab_type": "code",
        "colab": {}
      },
      "cell_type": "code",
      "source": [
        ""
      ],
      "execution_count": 0,
      "outputs": []
    }
  ]
}