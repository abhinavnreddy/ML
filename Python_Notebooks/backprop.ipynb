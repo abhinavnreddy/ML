{
  "nbformat": 4,
  "nbformat_minor": 0,
  "metadata": {
    "colab": {
      "name": "backprop.ipynb",
      "version": "0.3.2",
      "provenance": [],
      "collapsed_sections": [],
      "include_colab_link": true
    },
    "kernelspec": {
      "name": "python3",
      "display_name": "Python 3"
    },
    "accelerator": "TPU"
  },
  "cells": [
    {
      "cell_type": "markdown",
      "metadata": {
        "id": "view-in-github",
        "colab_type": "text"
      },
      "source": [
        "<a href=\"https://colab.research.google.com/github/nreddyabhinav/ML/blob/master/Python_Notebooks/backprop.ipynb\" target=\"_parent\"><img src=\"https://colab.research.google.com/assets/colab-badge.svg\" alt=\"Open In Colab\"/></a>"
      ]
    },
    {
      "cell_type": "code",
      "metadata": {
        "id": "pxBPM-ItR6EQ",
        "colab_type": "code",
        "outputId": "601ebcc1-7005-4f90-c4fe-b3cf95decf4c",
        "colab": {
          "base_uri": "https://localhost:8080/",
          "height": 527
        }
      },
      "source": [
        "from google.colab import drive\n",
        "\n",
        "drive.mount(\"/content/drive\")"
      ],
      "execution_count": 1,
      "outputs": [
        {
          "output_type": "error",
          "ename": "KeyboardInterrupt",
          "evalue": "ignored",
          "traceback": [
            "\u001b[0;31m---------------------------------------------------------------------------\u001b[0m",
            "\u001b[0;31mKeyboardInterrupt\u001b[0m                         Traceback (most recent call last)",
            "\u001b[0;32m/usr/local/lib/python3.6/dist-packages/ipykernel/kernelbase.py\u001b[0m in \u001b[0;36m_input_request\u001b[0;34m(self, prompt, ident, parent, password)\u001b[0m\n\u001b[1;32m    729\u001b[0m             \u001b[0;32mtry\u001b[0m\u001b[0;34m:\u001b[0m\u001b[0;34m\u001b[0m\u001b[0;34m\u001b[0m\u001b[0m\n\u001b[0;32m--> 730\u001b[0;31m                 \u001b[0mident\u001b[0m\u001b[0;34m,\u001b[0m \u001b[0mreply\u001b[0m \u001b[0;34m=\u001b[0m \u001b[0mself\u001b[0m\u001b[0;34m.\u001b[0m\u001b[0msession\u001b[0m\u001b[0;34m.\u001b[0m\u001b[0mrecv\u001b[0m\u001b[0;34m(\u001b[0m\u001b[0mself\u001b[0m\u001b[0;34m.\u001b[0m\u001b[0mstdin_socket\u001b[0m\u001b[0;34m,\u001b[0m \u001b[0;36m0\u001b[0m\u001b[0;34m)\u001b[0m\u001b[0;34m\u001b[0m\u001b[0;34m\u001b[0m\u001b[0m\n\u001b[0m\u001b[1;32m    731\u001b[0m             \u001b[0;32mexcept\u001b[0m \u001b[0mException\u001b[0m\u001b[0;34m:\u001b[0m\u001b[0;34m\u001b[0m\u001b[0;34m\u001b[0m\u001b[0m\n",
            "\u001b[0;32m/usr/local/lib/python3.6/dist-packages/jupyter_client/session.py\u001b[0m in \u001b[0;36mrecv\u001b[0;34m(self, socket, mode, content, copy)\u001b[0m\n\u001b[1;32m    802\u001b[0m         \u001b[0;32mtry\u001b[0m\u001b[0;34m:\u001b[0m\u001b[0;34m\u001b[0m\u001b[0;34m\u001b[0m\u001b[0m\n\u001b[0;32m--> 803\u001b[0;31m             \u001b[0mmsg_list\u001b[0m \u001b[0;34m=\u001b[0m \u001b[0msocket\u001b[0m\u001b[0;34m.\u001b[0m\u001b[0mrecv_multipart\u001b[0m\u001b[0;34m(\u001b[0m\u001b[0mmode\u001b[0m\u001b[0;34m,\u001b[0m \u001b[0mcopy\u001b[0m\u001b[0;34m=\u001b[0m\u001b[0mcopy\u001b[0m\u001b[0;34m)\u001b[0m\u001b[0;34m\u001b[0m\u001b[0;34m\u001b[0m\u001b[0m\n\u001b[0m\u001b[1;32m    804\u001b[0m         \u001b[0;32mexcept\u001b[0m \u001b[0mzmq\u001b[0m\u001b[0;34m.\u001b[0m\u001b[0mZMQError\u001b[0m \u001b[0;32mas\u001b[0m \u001b[0me\u001b[0m\u001b[0;34m:\u001b[0m\u001b[0;34m\u001b[0m\u001b[0;34m\u001b[0m\u001b[0m\n",
            "\u001b[0;32m/usr/local/lib/python3.6/dist-packages/zmq/sugar/socket.py\u001b[0m in \u001b[0;36mrecv_multipart\u001b[0;34m(self, flags, copy, track)\u001b[0m\n\u001b[1;32m    465\u001b[0m         \"\"\"\n\u001b[0;32m--> 466\u001b[0;31m         \u001b[0mparts\u001b[0m \u001b[0;34m=\u001b[0m \u001b[0;34m[\u001b[0m\u001b[0mself\u001b[0m\u001b[0;34m.\u001b[0m\u001b[0mrecv\u001b[0m\u001b[0;34m(\u001b[0m\u001b[0mflags\u001b[0m\u001b[0;34m,\u001b[0m \u001b[0mcopy\u001b[0m\u001b[0;34m=\u001b[0m\u001b[0mcopy\u001b[0m\u001b[0;34m,\u001b[0m \u001b[0mtrack\u001b[0m\u001b[0;34m=\u001b[0m\u001b[0mtrack\u001b[0m\u001b[0;34m)\u001b[0m\u001b[0;34m]\u001b[0m\u001b[0;34m\u001b[0m\u001b[0;34m\u001b[0m\u001b[0m\n\u001b[0m\u001b[1;32m    467\u001b[0m         \u001b[0;31m# have first part already, only loop while more to receive\u001b[0m\u001b[0;34m\u001b[0m\u001b[0;34m\u001b[0m\u001b[0;34m\u001b[0m\u001b[0m\n",
            "\u001b[0;32mzmq/backend/cython/socket.pyx\u001b[0m in \u001b[0;36mzmq.backend.cython.socket.Socket.recv\u001b[0;34m()\u001b[0m\n",
            "\u001b[0;32mzmq/backend/cython/socket.pyx\u001b[0m in \u001b[0;36mzmq.backend.cython.socket.Socket.recv\u001b[0;34m()\u001b[0m\n",
            "\u001b[0;32mzmq/backend/cython/socket.pyx\u001b[0m in \u001b[0;36mzmq.backend.cython.socket._recv_copy\u001b[0;34m()\u001b[0m\n",
            "\u001b[0;32m/usr/local/lib/python3.6/dist-packages/zmq/backend/cython/checkrc.pxd\u001b[0m in \u001b[0;36mzmq.backend.cython.checkrc._check_rc\u001b[0;34m()\u001b[0m\n",
            "\u001b[0;31mKeyboardInterrupt\u001b[0m: ",
            "\nDuring handling of the above exception, another exception occurred:\n",
            "\u001b[0;31mKeyboardInterrupt\u001b[0m                         Traceback (most recent call last)",
            "\u001b[0;32m<ipython-input-1-8b78ec40b86f>\u001b[0m in \u001b[0;36m<module>\u001b[0;34m()\u001b[0m\n\u001b[1;32m      1\u001b[0m \u001b[0;32mfrom\u001b[0m \u001b[0mgoogle\u001b[0m\u001b[0;34m.\u001b[0m\u001b[0mcolab\u001b[0m \u001b[0;32mimport\u001b[0m \u001b[0mdrive\u001b[0m\u001b[0;34m\u001b[0m\u001b[0;34m\u001b[0m\u001b[0m\n\u001b[1;32m      2\u001b[0m \u001b[0;34m\u001b[0m\u001b[0m\n\u001b[0;32m----> 3\u001b[0;31m \u001b[0mdrive\u001b[0m\u001b[0;34m.\u001b[0m\u001b[0mmount\u001b[0m\u001b[0;34m(\u001b[0m\u001b[0;34m\"/content/drive\"\u001b[0m\u001b[0;34m)\u001b[0m\u001b[0;34m\u001b[0m\u001b[0;34m\u001b[0m\u001b[0m\n\u001b[0m",
            "\u001b[0;32m/usr/local/lib/python3.6/dist-packages/google/colab/drive.py\u001b[0m in \u001b[0;36mmount\u001b[0;34m(mountpoint, force_remount, timeout_ms)\u001b[0m\n\u001b[1;32m    182\u001b[0m       \u001b[0;31m# Not already authorized, so do the authorization dance.\u001b[0m\u001b[0;34m\u001b[0m\u001b[0;34m\u001b[0m\u001b[0;34m\u001b[0m\u001b[0m\n\u001b[1;32m    183\u001b[0m       \u001b[0mauth_prompt\u001b[0m \u001b[0;34m=\u001b[0m \u001b[0md\u001b[0m\u001b[0;34m.\u001b[0m\u001b[0mmatch\u001b[0m\u001b[0;34m.\u001b[0m\u001b[0mgroup\u001b[0m\u001b[0;34m(\u001b[0m\u001b[0;36m1\u001b[0m\u001b[0;34m)\u001b[0m \u001b[0;34m+\u001b[0m \u001b[0;34m'\\n\\nEnter your authorization code:\\n'\u001b[0m\u001b[0;34m\u001b[0m\u001b[0;34m\u001b[0m\u001b[0m\n\u001b[0;32m--> 184\u001b[0;31m       \u001b[0md\u001b[0m\u001b[0;34m.\u001b[0m\u001b[0msend\u001b[0m\u001b[0;34m(\u001b[0m\u001b[0m_getpass\u001b[0m\u001b[0;34m.\u001b[0m\u001b[0mgetpass\u001b[0m\u001b[0;34m(\u001b[0m\u001b[0mauth_prompt\u001b[0m\u001b[0;34m)\u001b[0m \u001b[0;34m+\u001b[0m \u001b[0;34m'\\n'\u001b[0m\u001b[0;34m)\u001b[0m\u001b[0;34m\u001b[0m\u001b[0;34m\u001b[0m\u001b[0m\n\u001b[0m\u001b[1;32m    185\u001b[0m   \u001b[0md\u001b[0m\u001b[0;34m.\u001b[0m\u001b[0msendcontrol\u001b[0m\u001b[0;34m(\u001b[0m\u001b[0;34m'z'\u001b[0m\u001b[0;34m)\u001b[0m\u001b[0;34m\u001b[0m\u001b[0;34m\u001b[0m\u001b[0m\n\u001b[1;32m    186\u001b[0m   \u001b[0md\u001b[0m\u001b[0;34m.\u001b[0m\u001b[0mexpect\u001b[0m\u001b[0;34m(\u001b[0m\u001b[0;34mu'Stopped'\u001b[0m\u001b[0;34m)\u001b[0m\u001b[0;34m\u001b[0m\u001b[0;34m\u001b[0m\u001b[0m\n",
            "\u001b[0;32m/usr/local/lib/python3.6/dist-packages/ipykernel/kernelbase.py\u001b[0m in \u001b[0;36mgetpass\u001b[0;34m(self, prompt, stream)\u001b[0m\n\u001b[1;32m    686\u001b[0m             \u001b[0mself\u001b[0m\u001b[0;34m.\u001b[0m\u001b[0m_parent_ident\u001b[0m\u001b[0;34m,\u001b[0m\u001b[0;34m\u001b[0m\u001b[0;34m\u001b[0m\u001b[0m\n\u001b[1;32m    687\u001b[0m             \u001b[0mself\u001b[0m\u001b[0;34m.\u001b[0m\u001b[0m_parent_header\u001b[0m\u001b[0;34m,\u001b[0m\u001b[0;34m\u001b[0m\u001b[0;34m\u001b[0m\u001b[0m\n\u001b[0;32m--> 688\u001b[0;31m             \u001b[0mpassword\u001b[0m\u001b[0;34m=\u001b[0m\u001b[0;32mTrue\u001b[0m\u001b[0;34m,\u001b[0m\u001b[0;34m\u001b[0m\u001b[0;34m\u001b[0m\u001b[0m\n\u001b[0m\u001b[1;32m    689\u001b[0m         )\n\u001b[1;32m    690\u001b[0m \u001b[0;34m\u001b[0m\u001b[0m\n",
            "\u001b[0;32m/usr/local/lib/python3.6/dist-packages/ipykernel/kernelbase.py\u001b[0m in \u001b[0;36m_input_request\u001b[0;34m(self, prompt, ident, parent, password)\u001b[0m\n\u001b[1;32m    733\u001b[0m             \u001b[0;32mexcept\u001b[0m \u001b[0mKeyboardInterrupt\u001b[0m\u001b[0;34m:\u001b[0m\u001b[0;34m\u001b[0m\u001b[0;34m\u001b[0m\u001b[0m\n\u001b[1;32m    734\u001b[0m                 \u001b[0;31m# re-raise KeyboardInterrupt, to truncate traceback\u001b[0m\u001b[0;34m\u001b[0m\u001b[0;34m\u001b[0m\u001b[0;34m\u001b[0m\u001b[0m\n\u001b[0;32m--> 735\u001b[0;31m                 \u001b[0;32mraise\u001b[0m \u001b[0mKeyboardInterrupt\u001b[0m\u001b[0;34m\u001b[0m\u001b[0;34m\u001b[0m\u001b[0m\n\u001b[0m\u001b[1;32m    736\u001b[0m             \u001b[0;32melse\u001b[0m\u001b[0;34m:\u001b[0m\u001b[0;34m\u001b[0m\u001b[0;34m\u001b[0m\u001b[0m\n\u001b[1;32m    737\u001b[0m                 \u001b[0;32mbreak\u001b[0m\u001b[0;34m\u001b[0m\u001b[0;34m\u001b[0m\u001b[0m\n",
            "\u001b[0;31mKeyboardInterrupt\u001b[0m: "
          ]
        }
      ]
    },
    {
      "cell_type": "code",
      "metadata": {
        "id": "4bXT5gvHsYav",
        "colab_type": "code",
        "colab": {}
      },
      "source": [
        "from scipy.io import loadmat\n",
        "import numpy as np\n",
        "import matplotlib as mpl"
      ],
      "execution_count": 0,
      "outputs": []
    },
    {
      "cell_type": "code",
      "metadata": {
        "id": "KOdFY7hPTBUV",
        "colab_type": "code",
        "colab": {}
      },
      "source": [
        "data = loadmat('drive/My Drive/ColabNo/nn/ex4data1.mat')\n",
        "theta = loadmat('drive/My Drive/ColabNo/nn/ex4weights.mat')"
      ],
      "execution_count": 0,
      "outputs": []
    },
    {
      "cell_type": "code",
      "metadata": {
        "id": "xpcpsf3BrQjh",
        "colab_type": "code",
        "colab": {}
      },
      "source": [
        "ilu = 400\n",
        "hlu = 25\n",
        "olu = 10\n",
        "\n",
        "x = np.array(data['X'])\n",
        "y = np.array(data['y'])\n",
        "theta1 = np.array(theta['Theta1'])\n",
        "theta2 = np.array(theta['Theta2'])\n",
        "\n",
        "\n",
        "# testX = x[3500:]\n",
        "# x=x[0:3500]\n"
      ],
      "execution_count": 0,
      "outputs": []
    },
    {
      "cell_type": "code",
      "metadata": {
        "id": "rYuD8pZYGDoT",
        "colab_type": "code",
        "outputId": "4ea1255c-044f-443a-f9d2-cdc3cd989063",
        "colab": {
          "base_uri": "https://localhost:8080/",
          "height": 629
        }
      },
      "source": [
        "tempx = x\n",
        "tempy = y\n",
        "x=tempx[0:350]\n",
        "testx = tempx[351:500]\n",
        "testy = tempy[351:500]\n",
        "y=tempy[0:350]\n",
        "\n",
        "for i in range(1,10):\n",
        "  a=500*i\n",
        "  b=a+350\n",
        "  print(\"a: %d\"%(a))\n",
        "  print(\"b: %d\"%(b))\n",
        "  x=np.concatenate((x,tempx[a:b]),axis=0)\n",
        "  y=np.concatenate((y,tempy[a:b]),axis=0)\n",
        "  a=b+1\n",
        "  b=500*(i+1)\n",
        "  print(\"a: %d\"%(a))\n",
        "  print(\"b: %d\"%(b))\n",
        "  testx=np.concatenate((testx,tempx[a:b]),axis=0)\n",
        "  testy=np.concatenate((testy,tempy[a:b]),axis=0)\n",
        "  \n",
        "  "
      ],
      "execution_count": 0,
      "outputs": [
        {
          "output_type": "stream",
          "text": [
            "a: 500\n",
            "b: 850\n",
            "a: 851\n",
            "b: 1000\n",
            "a: 1000\n",
            "b: 1350\n",
            "a: 1351\n",
            "b: 1500\n",
            "a: 1500\n",
            "b: 1850\n",
            "a: 1851\n",
            "b: 2000\n",
            "a: 2000\n",
            "b: 2350\n",
            "a: 2351\n",
            "b: 2500\n",
            "a: 2500\n",
            "b: 2850\n",
            "a: 2851\n",
            "b: 3000\n",
            "a: 3000\n",
            "b: 3350\n",
            "a: 3351\n",
            "b: 3500\n",
            "a: 3500\n",
            "b: 3850\n",
            "a: 3851\n",
            "b: 4000\n",
            "a: 4000\n",
            "b: 4350\n",
            "a: 4351\n",
            "b: 4500\n",
            "a: 4500\n",
            "b: 4850\n",
            "a: 4851\n",
            "b: 5000\n"
          ],
          "name": "stdout"
        }
      ]
    },
    {
      "cell_type": "code",
      "metadata": {
        "id": "rOMRaXhhDCgN",
        "colab_type": "code",
        "outputId": "cb714463-d660-4671-d4f5-d148dba4a186",
        "colab": {
          "base_uri": "https://localhost:8080/",
          "height": 51
        }
      },
      "source": [
        "each = np.zeros(10)\n",
        "print(len(y))\n",
        "for i in range(0,len(y)):\n",
        "  each[y[i]-1]=each[y[i]-1]+1\n",
        "print(each)"
      ],
      "execution_count": 0,
      "outputs": [
        {
          "output_type": "stream",
          "text": [
            "1241\n",
            "[  0. 148. 149.  53.  95. 149. 106.  42. 149. 350.]\n"
          ],
          "name": "stdout"
        }
      ]
    },
    {
      "cell_type": "code",
      "metadata": {
        "id": "A35DT2iqHcte",
        "colab_type": "code",
        "outputId": "fb50fb72-808b-4e1d-805b-a67845f06a23",
        "colab": {
          "base_uri": "https://localhost:8080/",
          "height": 187
        }
      },
      "source": [
        "print(y[1000:1005])\n",
        "highest = max(y)[0]\n",
        "Y = np.zeros((1,highest))\n",
        "for i in y:\n",
        "  temp = np.zeros((1,highest))\n",
        "  temp[0][i[0]-1]=1\n",
        "#   print(temp)\n",
        "  Y = np.concatenate((Y,temp),axis=0)\n",
        "\n",
        "Y= Y[1:]\n",
        "testY = Y[3500:]\n",
        "Y = Y[0:3050]\n",
        "print(Y[1000:1005])"
      ],
      "execution_count": 0,
      "outputs": [
        {
          "output_type": "stream",
          "text": [
            "[[2]\n",
            " [2]\n",
            " [2]\n",
            " [2]\n",
            " [2]]\n",
            "[[0. 1. 0. 0. 0. 0. 0. 0. 0. 0.]\n",
            " [0. 1. 0. 0. 0. 0. 0. 0. 0. 0.]\n",
            " [0. 1. 0. 0. 0. 0. 0. 0. 0. 0.]\n",
            " [0. 1. 0. 0. 0. 0. 0. 0. 0. 0.]\n",
            " [0. 1. 0. 0. 0. 0. 0. 0. 0. 0.]]\n"
          ],
          "name": "stdout"
        }
      ]
    },
    {
      "cell_type": "code",
      "metadata": {
        "id": "8ltQqlcXrr_V",
        "colab_type": "code",
        "outputId": "833b61cf-3bd1-41af-c762-6c3dbf526954",
        "colab": {
          "base_uri": "https://localhost:8080/",
          "height": 119
        }
      },
      "source": [
        "print(np.shape(theta1))\n",
        "print(np.shape(theta2))\n",
        "print(np.shape(x))\n",
        "print(np.shape(y))\n",
        "\n",
        "print(np.shape(Y))\n",
        "m = np.shape(x)[0]\n",
        "print(m)"
      ],
      "execution_count": 0,
      "outputs": [
        {
          "output_type": "stream",
          "text": [
            "(25, 401)\n",
            "(10, 26)\n",
            "(3500, 400)\n",
            "(5000, 1)\n",
            "(3050, 10)\n",
            "3500\n"
          ],
          "name": "stdout"
        }
      ]
    },
    {
      "cell_type": "code",
      "metadata": {
        "id": "HcYOoykn2mjj",
        "colab_type": "code",
        "outputId": "bcbc50af-a91b-44f0-bf07-061013c0f91e",
        "colab": {
          "base_uri": "https://localhost:8080/",
          "height": 286
        }
      },
      "source": [
        "grid =np.reshape(x[2199,:],(20,20)).T\n",
        "\n",
        "mpl.pyplot.imshow(grid,origin=\"upper\")"
      ],
      "execution_count": 0,
      "outputs": [
        {
          "output_type": "execute_result",
          "data": {
            "text/plain": [
              "<matplotlib.image.AxesImage at 0x7fcc432c4668>"
            ]
          },
          "metadata": {
            "tags": []
          },
          "execution_count": 23
        },
        {
          "output_type": "display_data",
          "data": {
            "image/png": "[encoded data removed]",
            "text/plain": [
              "<Figure size 432x288 with 1 Axes>"
            ]
          },
          "metadata": {
            "tags": []
          }
        }
      ]
    },
    {
      "cell_type": "markdown",
      "metadata": {
        "id": "gnnUMrQxj53w",
        "colab_type": "text"
      },
      "source": [
        "# Sigmoid function :"
      ]
    },
    {
      "cell_type": "code",
      "metadata": {
        "id": "tnh2FMBIj5Ui",
        "colab_type": "code",
        "colab": {}
      },
      "source": [
        "def sigmoid(s):\n",
        "  return 1/(1+np.exp(-s))"
      ],
      "execution_count": 0,
      "outputs": []
    },
    {
      "cell_type": "code",
      "metadata": {
        "id": "EAD2GpYkYCB1",
        "colab_type": "code",
        "colab": {}
      },
      "source": [
        "def sigGradient(g):\n",
        "  g = sigmoid(g)\n",
        "  return g*(1-g)"
      ],
      "execution_count": 0,
      "outputs": []
    },
    {
      "cell_type": "markdown",
      "metadata": {
        "id": "ueze0NOVGzBK",
        "colab_type": "text"
      },
      "source": [
        "#cost function"
      ]
    },
    {
      "cell_type": "code",
      "metadata": {
        "id": "fEcYj3IrG39J",
        "colab_type": "code",
        "colab": {}
      },
      "source": [
        "def cost(h):\n",
        "  s = 0\n",
        "  for i in range(0,m):\n",
        "    s= s+ (np.matmul((-Y[i]),np.log(h[i]).T)-np.matmul((1-Y[i]),np.log((1-h[i] )).T ))\n",
        "    \n",
        "  return s/m"
      ],
      "execution_count": 0,
      "outputs": []
    },
    {
      "cell_type": "markdown",
      "metadata": {
        "id": "jOoWxvhpD2u_",
        "colab_type": "text"
      },
      "source": [
        "#vectorized and regularized cost function "
      ]
    },
    {
      "cell_type": "code",
      "metadata": {
        "id": "eu2HMpOlA9vo",
        "colab_type": "code",
        "colab": {}
      },
      "source": [
        "def costvec(h,l):\n",
        "  return (np.sum(np.sum((-Y)*np.log(h),axis=1)-np.sum((1-Y)*np.log(1-h), axis=1))/m)+(np.sum(np.sum(theta1[:,1:]**2,axis=0))+np.sum(np.sum(theta2[:,1:]**2,axis=0)))*l/(2*m) "
      ],
      "execution_count": 0,
      "outputs": []
    },
    {
      "cell_type": "markdown",
      "metadata": {
        "id": "Pf9jkQchi_Br",
        "colab_type": "text"
      },
      "source": [
        "#Get all the perceptron values (a^(i))"
      ]
    },
    {
      "cell_type": "code",
      "metadata": {
        "id": "A3cZRuLRW_nJ",
        "colab_type": "code",
        "outputId": "0fd83e43-c6db-4877-b871-2d01660e5bf9",
        "colab": {
          "base_uri": "https://localhost:8080/",
          "height": 85
        }
      },
      "source": [
        "e1 = round((6**(0.5))/((hlu+ilu+1)**(0.5)),2)\n",
        "print(e1)\n",
        "theta1=np.random.uniform(-e1,e1,(hlu,ilu+1))\n",
        "e2 = round((6**(0.5))/((hlu+olu+1)**(0.5)),2)\n",
        "print(e2)\n",
        "theta2=np.random.uniform(-e2,e2,(olu,hlu+1))\n",
        "print(np.shape(theta1))\n",
        "print(np.shape(theta2))"
      ],
      "execution_count": 0,
      "outputs": [
        {
          "output_type": "stream",
          "text": [
            "0.12\n",
            "0.41\n",
            "(25, 401)\n",
            "(10, 26)\n"
          ],
          "name": "stdout"
        }
      ]
    },
    {
      "cell_type": "code",
      "metadata": {
        "id": "WsLrDpO4i9dx",
        "colab_type": "code",
        "outputId": "7b73ae75-a013-4e80-844d-95bc7e18c022",
        "colab": {
          "base_uri": "https://localhost:8080/",
          "height": 34
        }
      },
      "source": [
        "\n",
        "\n",
        "a1 = np.concatenate((np.ones((m,1)),x),axis=1)\n",
        "z2 = np.matmul(a1,theta1.T)\n",
        "a2 = np.concatenate((np.ones((m,1)),sigmoid(z2)),axis=1)\n",
        "a3 = sigmoid(np.matmul(a2,theta2.T))\n",
        "\n",
        "\n",
        "J = costvec(a3,1)\n",
        "print(J)"
      ],
      "execution_count": 0,
      "outputs": [
        {
          "output_type": "stream",
          "text": [
            "6.808402626755402\n"
          ],
          "name": "stdout"
        }
      ]
    },
    {
      "cell_type": "code",
      "metadata": {
        "id": "FKlF23OstIrR",
        "colab_type": "code",
        "outputId": "8832b2ba-087e-4ca9-c17f-8248b6cff458",
        "colab": {
          "base_uri": "https://localhost:8080/",
          "height": 102
        }
      },
      "source": [
        "print(sigGradient(0))\n",
        "print(sigGradient(123))\n",
        "print(sigGradient(-1213))"
      ],
      "execution_count": 0,
      "outputs": [
        {
          "output_type": "stream",
          "text": [
            "0.25\n",
            "0.0\n",
            "0.0\n"
          ],
          "name": "stdout"
        },
        {
          "output_type": "stream",
          "text": [
            "/usr/local/lib/python3.6/dist-packages/ipykernel_launcher.py:2: RuntimeWarning: overflow encountered in exp\n",
            "  \n"
          ],
          "name": "stderr"
        }
      ]
    },
    {
      "cell_type": "code",
      "metadata": {
        "id": "4PltiynmXtaZ",
        "colab_type": "code",
        "outputId": "f8c86e8c-2d96-4403-dfc6-1393c199c0ce",
        "colab": {
          "base_uri": "https://localhost:8080/",
          "height": 51
        }
      },
      "source": [
        "test = np.ones((4,5))\n",
        "print(np.shape(test))\n",
        "test = test[:,1:]\n",
        "print(np.shape(test))"
      ],
      "execution_count": 0,
      "outputs": [
        {
          "output_type": "stream",
          "text": [
            "(4, 5)\n",
            "(4, 4)\n"
          ],
          "name": "stdout"
        }
      ]
    },
    {
      "cell_type": "code",
      "metadata": {
        "id": "f_I1mOJ6B162",
        "colab_type": "code",
        "outputId": "951e6709-f514-4204-9f68-e5954782b3d9",
        "colab": {
          "base_uri": "https://localhost:8080/",
          "height": 204
        }
      },
      "source": [
        "print(\"z2\")\n",
        "print(np.shape(z2))\n",
        "print(\"a3-a1\")\n",
        "print(np.shape(a3))\n",
        "print(np.shape(a2))\n",
        "print(np.shape(a1))\n",
        "print(\"theta\")\n",
        "print(np.shape(theta1))\n",
        "print(np.shape(theta2))\n",
        "print(\"Y\")\n",
        "print(np.shape(Y))"
      ],
      "execution_count": 0,
      "outputs": [
        {
          "output_type": "stream",
          "text": [
            "z2\n",
            "(5000, 25)\n",
            "a3-a1\n",
            "(5000, 10)\n",
            "(5000, 26)\n",
            "(5000, 401)\n",
            "theta\n",
            "(25, 401)\n",
            "(10, 26)\n",
            "Y\n",
            "(5000, 10)\n"
          ],
          "name": "stdout"
        }
      ]
    },
    {
      "cell_type": "markdown",
      "metadata": {
        "id": "QCl71i_OMbNi",
        "colab_type": "text"
      },
      "source": [
        "#Backpropagation"
      ]
    },
    {
      "cell_type": "code",
      "metadata": {
        "id": "m9LdEKnuMfXD",
        "colab_type": "code",
        "colab": {}
      },
      "source": [
        "def bpANG(alpha):\n",
        "    b3 = a3 - Y\n",
        "    b2 = np.matmul(b3,theta2)[:,1:]*sigGradient(z2)\n",
        "    delta1 = (np.matmul(b2.T,a1) /m)*alpha\n",
        "    delta2 = (np.matmul(b3.T,a2) /m)*alpha\n",
        "    return delta1,delta2\n",
        "    "
      ],
      "execution_count": 0,
      "outputs": []
    },
    {
      "cell_type": "code",
      "metadata": {
        "id": "qfw9j794iYth",
        "colab_type": "code",
        "colab": {}
      },
      "source": [
        "def bpCp():\n",
        "  "
      ],
      "execution_count": 0,
      "outputs": []
    },
    {
      "cell_type": "code",
      "metadata": {
        "id": "qtdU-UilZ7o2",
        "colab_type": "code",
        "outputId": "ec278f4c-ab9b-4819-be44-f6e969527ce8",
        "colab": {
          "base_uri": "https://localhost:8080/",
          "height": 102
        }
      },
      "source": [
        "e1 = round((6**(0.5))/((hlu+ilu+1)**(0.5)),2)\n",
        "print(e1)\n",
        "theta1=np.random.uniform(-e1,e1,(hlu,ilu+1))\n",
        "e2 = round((6**(0.5))/((hlu+olu+1)**(0.5)),2)\n",
        "print(e2)\n",
        "theta2=np.random.uniform(-e2,e2,(olu,hlu+1))\n",
        "print(np.shape(theta1))\n",
        "print(np.shape(theta2))\n",
        "\n",
        "for i in range(0,1000):\n",
        "  a1 = np.concatenate((np.ones((m,1)),x),axis=1)\n",
        "  z2 = np.matmul(a1,theta1.T)\n",
        "  a2 = np.concatenate((np.ones((m,1)),sigmoid(z2)),axis=1)\n",
        "  a3 = sigmoid(np.matmul(a2,theta2.T))\n",
        "  D1,D2 = bp(0.1)\n",
        "#   print(D1[1][1])\n",
        "#   print(D2[1][1])\n",
        "#   print(cost(a3))\n",
        "  theta1 = theta1 - D1\n",
        "  theta2 = theta2 - D2\n",
        "print(cost(a3))"
      ],
      "execution_count": 0,
      "outputs": [
        {
          "output_type": "stream",
          "text": [
            "0.12\n",
            "0.41\n",
            "(25, 401)\n",
            "(10, 26)\n",
            "2.832899602042499\n"
          ],
          "name": "stdout"
        }
      ]
    },
    {
      "cell_type": "code",
      "metadata": {
        "id": "z7I6qDF8efoT",
        "colab_type": "code",
        "outputId": "c816ae7c-3c19-4400-ca15-f968bf8dd42d",
        "colab": {
          "base_uri": "https://localhost:8080/",
          "height": 68
        }
      },
      "source": [
        "te1 = np.concatenate((np.ones((m,1)),x),axis=1)\n",
        "te2 = np.concatenate((np.ones((m,1)),sigmoid(np.matmul(te1,theta1.T))),axis=1)\n",
        "te3 = sigmoid(np.matmul(te2,theta2.T))\n",
        "c=0\n",
        "for i in range(0,m):\n",
        "  for j in range(0,10):\n",
        "    if(te3[i,j]>0.5):\n",
        "      te3[i,j] = 1\n",
        "    else:\n",
        "      te3[i,j]=0\n",
        "  if(te3[i].all()==Y[i].all()):\n",
        "    c=c+1\n",
        "\n",
        "print(c)\n",
        "print(\"accuracy\")\n",
        "print(c/m)"
      ],
      "execution_count": 0,
      "outputs": [
        {
          "output_type": "stream",
          "text": [
            "5000\n",
            "accuracy\n",
            "1.0\n"
          ],
          "name": "stdout"
        }
      ]
    }
  ]
}